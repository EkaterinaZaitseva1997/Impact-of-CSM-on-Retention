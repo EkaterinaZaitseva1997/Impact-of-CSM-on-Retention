{
 "cells": [
  {
   "cell_type": "code",
   "execution_count": null,
   "metadata": {},
   "outputs": [],
   "source": [
    "import pandas as pd\n",
    "import numpy as np\n",
    "import math as math\n",
    "from sklearn.metrics import classification_report, accuracy_score\n",
    "from sklearn.model_selection import train_test_split\n",
    "from sklearn.ensemble import RandomForestClassifier\n",
    "import matplotlib\n",
    "\n",
    "import matplotlib.pyplot as plt\n",
    "from scipy import stats\n",
    "matplotlib.style.use('ggplot')\n",
    "%matplotlib inline"
   ]
  },
  {
   "cell_type": "code",
   "execution_count": null,
   "metadata": {},
   "outputs": [],
   "source": [
    "import warnings\n",
    "warnings.filterwarnings('ignore')\n",
    "\n",
    "from wrantools.db import WMDBAdapter\n",
    "from datetime import datetime, timedelta\n",
    "import pandas as pd\n",
    "import numpy as np\n",
    "#from matplotlib import pyplot as plt"
   ]
  },
  {
   "cell_type": "code",
   "execution_count": null,
   "metadata": {},
   "outputs": [],
   "source": [
    "from wrantools.vault import get_vault_client\n",
    "\n",
    "vault = get_vault_client()\n",
    "password='1SdGSz4WZyTEzJQ'\n",
    "vault.write('cubbyhole/databases/pentaho', user='ekaterina.zaitseva', password=password)"
   ]
  },
  {
   "cell_type": "code",
   "execution_count": null,
   "metadata": {},
   "outputs": [],
   "source": [
    "sql = \"\"\"\n",
    "with mrr_all as(\n",
    "with sf2 as (\n",
    "    select wrike__account_id__c::numeric::int as account_id,\n",
    "           start__date__c::date as start_day,\n",
    "           opportunity__close__date__c::date as opp_close_day,\n",
    "           deployment__package__c as depl_package,\n",
    "           wrike__deployment__owner__c as depl_owner,\n",
    "           end__date__c::date as end_date,\n",
    "           deployment__type__c as type,\n",
    "           status__c,\n",
    "           type__c,\n",
    "           name\n",
    "    from sf2_deployment__c\n",
    "      where opportunity__close__date__c::date between '2017-01-01' and pday()\n",
    "     and status__c!~('Error|Canceled')\n",
    "),\n",
    "mmb as\n",
    "    (\n",
    "        select\n",
    "        m1.day as day,\n",
    "        date_trunc('month', m1.day)::date as month1,\n",
    "        acc_to_int(m1.u_owner_account) as account_id1,\n",
    "        acc_to_int(m2.u_owner_account) as account_id2,\n",
    "        (m1.box).product,\n",
    "         m1.status,\n",
    "         m2.status as status2,\n",
    "         m2.day as month2,\n",
    "        (m1.box).lic_seats as lic_seats1,\n",
    "        (m2.box).lic_seats as lic_seats2,\n",
    "        (m1.box).mrr as mrr1,\n",
    "        (m2.box).mrr as mrr2,\n",
    "        (m1.fbox).day as first_day,\n",
    "        (m1.day-(m1.fbox).day)/30 as monthdiff,\n",
    "        case\n",
    "    when (m1.box).product = 'Professional'\n",
    "    then 9.8 * (m1.box).lic_seats\n",
    "    when (m1.box).product = 'Business'\n",
    "    then 24.8 * (m1.box).lic_seats\n",
    "    when (m1.box).product = 'Enterprise'\n",
    "    then 34.6 * (m1.box).lic_seats\n",
    "    when (m1.box).product ~ 'Wrike for Marketers'\n",
    "    then 34.6 * (m1.box).lic_seats\n",
    "    else null end as list_mrr1,\n",
    "          case\n",
    "    when (m2.box).product = 'Professional'\n",
    "    then 9.8 * (m2.box).lic_seats\n",
    "    when (m2.box).product = 'Business'\n",
    "    then 24.8 * (m2.box).lic_seats\n",
    "    when (m2.box).product = 'Enterprise'\n",
    "    then 34.6 * (m2.box).lic_seats\n",
    "    when (m2.box).product ~ 'Wrike for Marketers'\n",
    "    then 34.6 * (m2.box).lic_seats\n",
    "    else null end as list_mrr2,\n",
    "        (m1.box).success_rep,\n",
    "    count((m1.box).success_rep) over (partition by m1.u_owner_account order by m1.day ROWS BETWEEN CURRENT ROW AND 14 FOLLOWING) as csm_num_month1,\n",
    "    count((m1.box).success_rep) over (partition by m1.u_owner_account order by m1.day ROWS BETWEEN  CURRENT ROW AND UNBOUNDED FOLLOWING) as csm_month_step,\n",
    "    sum(case when m1.status~'Churned|Nothing|Bounce churn' then 1 else 0 end) over (partition by m1.u_owner_account order by m1.day ROWS BETWEEN CURRENT ROW AND 14 FOLLOWING) as churned,\n",
    "    --count((m2.box).success_rep) over (partition by m2.u_owner_account,(m2.box).product ROWS BETWEEN 14 PRECEDING AND CURRENT ROW) as csm_num_month2,\n",
    "    (CASE\n",
    "    WHEN (m1.box).lic_seats >= 100 THEN 'Tier 1'\n",
    "    WHEN (m1.box).product = 'Wrike for Marketers' and (m1.box).lic_seats>=20 and (m1.box).billing_period='Annual' THEN 'Tier 2'\n",
    "    WHEN (m1.box).product='Wrike for Marketers Ent' and (m1.box).lic_seats>=20 and (m1.box).billing_period='Annual' THEN 'Tier 2'\n",
    "    WHEN (m1.box).product='Business' and (m1.box).lic_seats>=20 and (m1.box).billing_period='Annual' THEN 'Tier 3'\n",
    "    WHEN (m1.box).product='Enterprise' and (m1.box).lic_seats>=20 and (m1.box).billing_period='Annual' THEN 'Tier 3'\n",
    "    WHEN (m1.box).product<>'Professional' and (m1.box).lic_seats>=10 and (m1.box).billing_period='Annual' THEN 'Tier 4'\n",
    "    ELSE 'Tier 5' END) AS Tier,\n",
    "        (m1.fbox).day as became_paid_day\n",
    "        from mrr_month_block as m1\n",
    "        left join (select *\n",
    "                 from mrr_month_block as mm\n",
    "                 where mm.day > '2018-01-01' ) as m2\n",
    "     on m1.u_owner_account = m2.u_owner_account and date_trunc('month', m1.day)=(date_trunc('month', m2.day) - interval '15 months')\n",
    "          where m1.day between '2017-01-01' and pday() and (m1.box).billing_period='Annual'\n",
    "     --вычитаем 48 недель, чтобы потом наблюдать изменение показателя на этом интервале времени\n",
    "    )\n",
    "\n",
    "select --(mmb.day + interval '15 months')::date as month2,\n",
    "       mmb.*,\n",
    "       --mrr_r.*,\n",
    "       round(((mmb.list_mrr1-mmb.mrr1)/mmb.list_mrr1)::numeric,2)*100 as discount1,\n",
    "       round(((mmb.list_mrr2-mmb.mrr2)/mmb.list_mrr2)::numeric,2)*100 as discount2,\n",
    "       case when success_rep NOTNULL then 1 else 0 end as CSM,\n",
    "       case when mmb.monthdiff=0 then 'New'\n",
    "           when mmb.monthdiff between 1 and 15 then 'One year'\n",
    "           when mmb.monthdiff between 16 and 30 then 'Two years'\n",
    "           when mmb.monthdiff between 31 and 45 then 'Three years'\n",
    "           when mmb.monthdiff between 46 and 60 then 'Four years'\n",
    "           when mmb.monthdiff between 61 and 75 then 'Five years'\n",
    "           when mmb.monthdiff > 75 then 'Old (5+)' end as \"Account Status\",\n",
    "       --count(mmb.success_rep) over (partition by mmb.account_id,mmb.product) as csm_num_month,\n",
    "       case when mmb.mrr2 ISNULL then null else mmb.mrr2/mmb.mrr1 end as mrr_retention\n",
    "from mmb\n",
    "ORDER BY mmb.day\n",
    "  )\n",
    "select\n",
    "       mrr_all.*,\n",
    "       t.\"Country\",\n",
    "       t.employees,\n",
    "       t.industry,\n",
    "       case\n",
    "         when mrr_all.mrr_retention < 1 then 'downgrade'\n",
    "         when mrr_all.mrr_retention = 1 then 'no change'\n",
    "         when mrr_all.mrr_retention > 1 then 'upgrade'\n",
    "         when mrr_all.mrr2 ISNULL and mrr_all.churned>0 then 'churned'\n",
    "         when mrr_all.mrr2 ISNULL and mrr_all.churned=0 then 'no indicator'\n",
    "         end as indicator_retention,\n",
    "       case\n",
    "         when mrr_all.mrr_retention < 1 then 'downgrade'\n",
    "         when mrr_all.mrr_retention = 1 then 'no change'\n",
    "         when mrr_all.mrr_retention > 1 and mrr_all.mrr_retention <= 2 then 'upgrade (1-2)'\n",
    "         when mrr_all.mrr_retention > 2 and mrr_all.mrr_retention <= 5 then 'upgrade (2-5)'\n",
    "         when mrr_all.mrr_retention > 5 then 'upgrade (>5)'\n",
    "         when mrr_all.mrr2 ISNULL and mrr_all.churned>0 then 'churned'\n",
    "         when mrr_all.mrr2 ISNULL and mrr_all.churned=0 then 'no indicator'\n",
    "         end as indicator_retention2\n",
    "from mrr_all left join tableau_ref_account t on mrr_all.account_id1=acc_to_int(t.u_owner_account)\n",
    "\"\"\"\n",
    "db_client = WMDBAdapter(use_pandas=True)\n",
    "df = db_client.pentaho.simple_get(sql)"
   ]
  },
  {
   "cell_type": "code",
   "execution_count": null,
   "metadata": {},
   "outputs": [],
   "source": [
    "df.head()"
   ]
  },
  {
   "cell_type": "code",
   "execution_count": null,
   "metadata": {},
   "outputs": [],
   "source": [
    "list(df)"
   ]
  },
  {
   "cell_type": "code",
   "execution_count": null,
   "metadata": {},
   "outputs": [],
   "source": [
    "summary = df.describe(include='all')\n",
    "summary = summary.transpose()\n",
    "summary"
   ]
  },
  {
   "cell_type": "code",
   "execution_count": null,
   "metadata": {},
   "outputs": [],
   "source": [
    "df2=df[['product','Account Status','lic_seats1','csm_num_month1','csm_month_step','tier','monthdiff','mrr1','mrr_retention','Country','industry','employees','indicator_retention','indicator_retention2']]\n",
    "df2.head()"
   ]
  },
  {
   "cell_type": "code",
   "execution_count": null,
   "metadata": {},
   "outputs": [],
   "source": [
    "df2['indicator_retention'].unique()"
   ]
  },
  {
   "cell_type": "code",
   "execution_count": null,
   "metadata": {},
   "outputs": [],
   "source": [
    "df['month2']=pd.to_datetime(df['month2'])\n",
    "df_this_month=df[df['month2']>='2019-03-31']\n",
    "df_this_month=df_this_month[df_this_month['indicator_retention']!='no indicator']\n",
    "df_this_month=df_this_month[df_this_month['indicator_retention']!='churned']\n",
    "df_this_month.csm[df_this_month['csm_num_month1']==0]=0\n",
    "df_this_month.csm[df_this_month['csm_num_month1']>0]=1\n",
    "df_this_month.head()"
   ]
  },
  {
   "cell_type": "code",
   "execution_count": null,
   "metadata": {},
   "outputs": [],
   "source": [
    "df2_filtered=df2[df2['indicator_retention2']!='no indicator']\n",
    "df2_filtered.head()"
   ]
  },
  {
   "cell_type": "code",
   "execution_count": null,
   "metadata": {},
   "outputs": [],
   "source": [
    "df2_filtered['indicator_retention'].unique()"
   ]
  },
  {
   "cell_type": "code",
   "execution_count": null,
   "metadata": {
    "scrolled": false
   },
   "outputs": [],
   "source": [
    "df2_filtered['csm']=\"\"\n",
    "df2_filtered.csm[df2_filtered['csm_num_month1']==0]=0\n",
    "df2_filtered.csm[df2_filtered['csm_num_month1']>0]=1\n",
    "df2_filtered.head(1).transpose()"
   ]
  },
  {
   "cell_type": "markdown",
   "metadata": {},
   "source": [
    "### CSM Review"
   ]
  },
  {
   "cell_type": "code",
   "execution_count": null,
   "metadata": {},
   "outputs": [],
   "source": [
    "yes_csm=df2_filtered[df2_filtered['csm'] == 1]['mrr_retention']\n",
    "no_csm=df2_filtered[df2_filtered['csm'] == 0]['mrr_retention']\n",
    "yes_csm.name, no_csm.name = 'with csm', 'without csm'\n",
    "print(len(yes_csm),len(no_csm))"
   ]
  },
  {
   "cell_type": "code",
   "execution_count": null,
   "metadata": {},
   "outputs": [],
   "source": [
    "def two_histograms(x, y,bins):\n",
    "    n_bins = bins\n",
    "    x.hist(alpha=0.5,bins=n_bins)\n",
    "    y.hist(alpha=0.5,bins=n_bins)\n",
    "    plt.axvline(x.mean(), color='red', alpha=0.8, linestyle='dashed')\n",
    "    plt.axvline(y.mean(), color='blue', alpha=0.8, linestyle='dashed')\n",
    "    plt.legend([x.name, y.name])"
   ]
  },
  {
   "cell_type": "code",
   "execution_count": null,
   "metadata": {},
   "outputs": [],
   "source": [
    "bins=np.linspace(0, 5, 20)\n",
    "two_histograms(yes_csm, no_csm,bins)"
   ]
  },
  {
   "cell_type": "code",
   "execution_count": null,
   "metadata": {},
   "outputs": [],
   "source": [
    "#log distribution\n",
    "import math\n",
    "import random\n",
    "bins=np.linspace(-2, 2, 20)\n",
    "two_histograms(np.log(yes_csm), np.log(no_csm),bins)\n",
    "print (stats.shapiro(df2_filtered['mrr_retention'].notnull()))"
   ]
  },
  {
   "cell_type": "code",
   "execution_count": null,
   "metadata": {},
   "outputs": [],
   "source": [
    "len(df2_filtered['mrr_retention'].notnull())"
   ]
  },
  {
   "cell_type": "code",
   "execution_count": null,
   "metadata": {},
   "outputs": [],
   "source": [
    "print (stats.shapiro(random.sample(list(df2_filtered['mrr_retention'].notnull()),k=4500)))"
   ]
  },
  {
   "cell_type": "code",
   "execution_count": null,
   "metadata": {},
   "outputs": [],
   "source": [
    "#to find out is distribution normal or not\n",
    "print(stats.shapiro(yes_csm.notnull()),stats.shapiro(no_csm.notnull()))\n",
    "#actually not"
   ]
  },
  {
   "cell_type": "code",
   "execution_count": null,
   "metadata": {},
   "outputs": [],
   "source": [
    "#равны ли теоретические дисперсии у выборок\n",
    "st_lev=stats.levene(yes_csm.notnull(),no_csm.notnull())\n",
    "print('p-value:', st_lev[1].round(2))\n",
    "#не равны\n",
    "#ничего не выполняется для Anova => выбор падает на непараметрический тест Крускала-Уоллиса (scipy.stats.kruskal)"
   ]
  },
  {
   "cell_type": "code",
   "execution_count": null,
   "metadata": {},
   "outputs": [],
   "source": [
    "df2_filtered['mrr_retention'].groupby(df2_filtered['csm']).mean()"
   ]
  },
  {
   "cell_type": "code",
   "execution_count": null,
   "metadata": {},
   "outputs": [],
   "source": [
    "df2_filtered['mrr_retention'].groupby(df2_filtered['csm']).median()"
   ]
  },
  {
   "cell_type": "code",
   "execution_count": null,
   "metadata": {},
   "outputs": [],
   "source": [
    "#Тест на проверку медианных значений\n",
    "res_csm = stats.mannwhitneyu(yes_csm.dropna(), no_csm.dropna())\n",
    "print('p-value:', round(res_csm[1],4),'\\nU-value:', res_csm[0])\n",
    "\n",
    "#p-value=0 - different, rejected H0"
   ]
  },
  {
   "cell_type": "markdown",
   "metadata": {},
   "source": [
    "## This month"
   ]
  },
  {
   "cell_type": "code",
   "execution_count": null,
   "metadata": {},
   "outputs": [],
   "source": [
    "bins=np.linspace(0, 5, 20)\n",
    "two_histograms(df_this_month[df_this_month['csm'] == 1]['mrr_retention'], df_this_month[df_this_month['csm'] == 0]['mrr_retention'],bins)"
   ]
  },
  {
   "cell_type": "code",
   "execution_count": null,
   "metadata": {},
   "outputs": [],
   "source": [
    "df_this_month['mrr_retention'].groupby(df_this_month['csm']).mean()"
   ]
  },
  {
   "cell_type": "code",
   "execution_count": null,
   "metadata": {},
   "outputs": [],
   "source": [
    "res_csm = stats.mannwhitneyu(df_this_month[df_this_month['csm'] == 1]['mrr_retention'].dropna(), df_this_month[df_this_month['csm'] == 0]['mrr_retention'].dropna())\n",
    "print('p-value:', round(res_csm[1],4),'\\nU-value:', res_csm[0])"
   ]
  },
  {
   "cell_type": "code",
   "execution_count": null,
   "metadata": {},
   "outputs": [],
   "source": [
    "res_csm = stats.mannwhitneyu(df_this_month[df_this_month['csm'] == 1]['mrr_retention'].dropna(), df_this_month[df_this_month['csm'] == 0]['mrr_retention'].dropna(),alternative='greater')\n",
    "print('p-value:', round(res_csm[1],4),'\\nU-value:', res_csm[0])"
   ]
  },
  {
   "cell_type": "code",
   "execution_count": null,
   "metadata": {},
   "outputs": [],
   "source": [
    "df_this_month.groupby(['tier', 'csm']).csm.count()"
   ]
  },
  {
   "cell_type": "markdown",
   "metadata": {},
   "source": [
    "### Deployment review"
   ]
  },
  {
   "cell_type": "code",
   "execution_count": null,
   "metadata": {},
   "outputs": [],
   "source": [
    "with_depl=df2_filtered[df2_filtered['depl_sold'] == 1]['mrr_retention']\n",
    "without_depl=df2_filtered[df2_filtered['depl_sold'] == 0]['mrr_retention']\n",
    "print(len(with_depl),len(without_depl))"
   ]
  },
  {
   "cell_type": "code",
   "execution_count": null,
   "metadata": {},
   "outputs": [],
   "source": [
    "df2_filtered['mrr_retention'].groupby(df2_filtered['depl_sold']).median()"
   ]
  },
  {
   "cell_type": "code",
   "execution_count": null,
   "metadata": {},
   "outputs": [],
   "source": [
    "import math\n",
    "bins=np.linspace(-2, 2, 20)\n",
    "two_histograms(with_depl,without_depl,bins)\n",
    "with_depl.name, without_depl.name = 'with depl', 'without depl'"
   ]
  },
  {
   "cell_type": "code",
   "execution_count": null,
   "metadata": {},
   "outputs": [],
   "source": [
    "two_histograms(np.log(with_depl), np.log(without_depl),bins)\n",
    "np.log(with_depl).name, np.log(without_depl).name = 'with depl', 'without depl'"
   ]
  },
  {
   "cell_type": "code",
   "execution_count": null,
   "metadata": {},
   "outputs": [],
   "source": [
    "print(stats.shapiro(np.log(with_depl).notnull()),stats.shapiro(np.log(without_depl).notnull()))"
   ]
  },
  {
   "cell_type": "code",
   "execution_count": null,
   "metadata": {},
   "outputs": [],
   "source": [
    "#Тест на проверку медианных значений\n",
    "res_depl = stats.mannwhitneyu(with_depl.dropna(), without_depl.dropna())\n",
    "print('p-value:', res_csm[1])"
   ]
  },
  {
   "cell_type": "markdown",
   "metadata": {},
   "source": [
    "### CSM by product review"
   ]
  },
  {
   "cell_type": "code",
   "execution_count": null,
   "metadata": {},
   "outputs": [],
   "source": [
    "df2_filtered['product'].unique()"
   ]
  },
  {
   "cell_type": "code",
   "execution_count": null,
   "metadata": {},
   "outputs": [],
   "source": [
    "df2_filtered['product'][df2_filtered['product']=='Wrike for Marketers Ent']='Wrike for Marketers'"
   ]
  },
  {
   "cell_type": "code",
   "execution_count": null,
   "metadata": {},
   "outputs": [],
   "source": [
    "df2_filtered['product'].unique()"
   ]
  },
  {
   "cell_type": "code",
   "execution_count": null,
   "metadata": {},
   "outputs": [],
   "source": [
    "df3=df2_filtered[df2_filtered['indicator_retention']!='churned']"
   ]
  },
  {
   "cell_type": "code",
   "execution_count": null,
   "metadata": {},
   "outputs": [],
   "source": [
    "#two-sided test\n",
    "effect_size=[]\n",
    "with_csm=df3[df3['csm'] == 1]\n",
    "without_csm=df3[df3['csm'] == 0]\n",
    "ent=df3[df3['product'] == 'Enterprise']\n",
    "prof=df3[df3['product'] == 'Professional']\n",
    "bus=df3[df3['product'] == 'Business']\n",
    "mark=df3[df3['product'] == 'Wrike for Marketers']\n",
    "p_v=[]\n",
    "prod=[]\n",
    "for p in ['Enterprise', 'Professional', 'Business','Wrike for Marketers']:\n",
    "    product=df3[df3['product'] == p]\n",
    "    prod=np.append(prod,p)\n",
    "    res_mw=stats.mannwhitneyu(product[product['csm'] == 1]['mrr_retention'], product[product['csm'] == 0]['mrr_retention'])\n",
    "    n1=len(product[product['csm'] == 1])\n",
    "    n2=len(product[product['csm'] == 0])\n",
    "    r1=product[product['csm'] == 1]['mrr_retention'].dropna().rank(ascending=1).median()\n",
    "    r2=product[product['csm'] == 0]['mrr_retention'].dropna().rank(ascending=1).median()\n",
    "    r=2*(r2-r1)/(n1+n2)\n",
    "    effect_size=np.append(effect_size,r)\n",
    "    p_v=np.append(p_v,res_mw[1])\n",
    "    df_mw_product=pd.DataFrame({'product':prod,'p-value':p_v,'effect size':effect_size},index=None)\n",
    "df_mw_product.round(4)"
   ]
  },
  {
   "cell_type": "code",
   "execution_count": null,
   "metadata": {},
   "outputs": [],
   "source": [
    "df3['tier'].unique()"
   ]
  },
  {
   "cell_type": "code",
   "execution_count": null,
   "metadata": {},
   "outputs": [],
   "source": [
    "p_v=[]\n",
    "t=[]\n",
    "effect_size=[]\n",
    "tier1=df3[df3['tier'] == 'Tier 1']\n",
    "tier2=df3[df3['tier'] == 'Tier 2']\n",
    "tier3=df3[df3['tier'] == 'Tier 3']\n",
    "tier4=df3[df3['tier'] == 'Tier 4']\n",
    "tier5=df3[df3['tier'] == 'Tier 5']\n",
    "for p in ['Tier 1', 'Tier 2', 'Tier 3',\n",
    "       'Tier 4', 'Tier 5']:\n",
    "    tier=df3[df3['tier'] == p]\n",
    "    t=np.append(t,p)\n",
    "    res_mw=stats.mannwhitneyu(tier[tier['csm'] == 1]['mrr_retention'], tier[tier['csm'] == 0]['mrr_retention'])\n",
    "    n1=len(tier[tier['csm'] == 1])\n",
    "    n2=len(tier[tier['csm'] == 0])\n",
    "    r1=tier[tier['csm'] == 1]['mrr_retention'].dropna().rank(ascending=1).mean()\n",
    "    r2=tier[tier['csm'] == 0]['mrr_retention'].dropna().rank(ascending=1).mean()\n",
    "    r=2*(r2-r1)/(n1+n2)\n",
    "    effect_size=np.append(effect_size,r)\n",
    "    p_v=np.append(p_v,res_mw[1])\n",
    "    df_mw_tier=pd.DataFrame({'tier':t,'p-value':p_v,'effect size':effect_size},index=None)\n",
    "df_mw_tier.round(4)"
   ]
  },
  {
   "cell_type": "code",
   "execution_count": null,
   "metadata": {},
   "outputs": [],
   "source": [
    "df3.groupby(['product', 'csm']).csm.count()"
   ]
  },
  {
   "cell_type": "code",
   "execution_count": null,
   "metadata": {},
   "outputs": [],
   "source": [
    "#greater test\n",
    "p_v=[]\n",
    "prod=[]\n",
    "for p in ['Enterprise', 'Professional', 'Business',\n",
    "       'Wrike for Marketers']:\n",
    "    product=df3[df3['product'] == p]\n",
    "    prod=np.append(prod,p)\n",
    "    res_mw=stats.mannwhitneyu(product[product['csm'] == 1]['mrr_retention'], product[product['csm'] == 0]['mrr_retention'],alternative='greater')\n",
    "    p_v=np.append(p_v,res_mw[1])\n",
    "    df_mw_product=pd.DataFrame({'product':prod,'p-value':p_v},index=None)\n",
    "df_mw_product.round(4)"
   ]
  },
  {
   "cell_type": "code",
   "execution_count": null,
   "metadata": {},
   "outputs": [],
   "source": [
    "df3.groupby(['tier', 'csm']).csm.count()"
   ]
  },
  {
   "cell_type": "code",
   "execution_count": null,
   "metadata": {},
   "outputs": [],
   "source": [
    "#greater test\n",
    "p_v=[]\n",
    "t=[]\n",
    "for p in ['Tier 1', 'Tier 2', 'Tier 3',\n",
    "       'Tier 4', 'Tier 5']:\n",
    "    tier=df3[df3['tier'] == p]\n",
    "    t=np.append(t,p)\n",
    "    res_mw=stats.mannwhitneyu(tier[tier['csm'] == 1]['mrr_retention'], tier[tier['csm'] == 0]['mrr_retention'],alternative='greater')\n",
    "    p_v=np.append(p_v,res_mw[1])\n",
    "    df_mw_tier=pd.DataFrame({'tier':t,'p-value':p_v},index=None)\n",
    "df_mw_tier.round(4)"
   ]
  },
  {
   "cell_type": "markdown",
   "metadata": {},
   "source": [
    "# Very important test"
   ]
  },
  {
   "cell_type": "code",
   "execution_count": null,
   "metadata": {},
   "outputs": [],
   "source": [
    "#Power of test (for t-test)\n",
    "from statsmodels.stats.power import tt_ind_solve_power\n",
    "round(tt_ind_solve_power(effect_size= 0.3, nobs1 = None, alpha=0.05, power=0.9, alternative='larger'),0)"
   ]
  },
  {
   "cell_type": "code",
   "execution_count": null,
   "metadata": {},
   "outputs": [],
   "source": [
    "from statsmodels.stats.power import tt_ind_solve_power\n",
    "round(tt_ind_solve_power(effect_size= 0.3, nobs1 = None, alpha=0.05, power=0.9, alternative='two-sided'),0)"
   ]
  },
  {
   "cell_type": "code",
   "execution_count": null,
   "metadata": {
    "scrolled": true
   },
   "outputs": [],
   "source": [
    "#greater test\n",
    "from random import sample\n",
    "from random import seed\n",
    "\n",
    "p_v=[]\n",
    "prod=[]\n",
    "for p in ['Enterprise', 'Professional', 'Business',\n",
    "       'Wrike for Marketers']:\n",
    "    product=df3[df3['product'] == p]\n",
    "    prod=np.append(prod,p)\n",
    "    res_mw=stats.mannwhitneyu(sample(list(product[product['csm'] == 1]['mrr_retention']),250), sample(list(product[product['csm'] == 0]['mrr_retention']),250),alternative='greater')\n",
    "    p_v=np.append(p_v,res_mw[1])\n",
    "    df_mw_product=pd.DataFrame({'product':prod,'p-value':p_v},index=None)\n",
    "df_mw_product.round(4)"
   ]
  },
  {
   "cell_type": "code",
   "execution_count": null,
   "metadata": {},
   "outputs": [],
   "source": [
    "round(tt_ind_solve_power(effect_size= 0.3, nobs1 = 60, alpha=0.05, power=None, alternative='larger'),3)"
   ]
  },
  {
   "cell_type": "code",
   "execution_count": null,
   "metadata": {},
   "outputs": [],
   "source": [
    "tt_ind_solve_power(effect_size= 0.3, nobs1 = 150, alpha=0.05, power=None, alternative='larger')"
   ]
  },
  {
   "cell_type": "markdown",
   "metadata": {},
   "source": [
    "То есть, нужно понимать, что используя выборку размером 60, мы пренебрегаем мощностью"
   ]
  },
  {
   "cell_type": "code",
   "execution_count": null,
   "metadata": {
    "scrolled": true
   },
   "outputs": [],
   "source": [
    "#greater test\n",
    "from random import sample\n",
    "from random import seed\n",
    "seed(42)\n",
    "p_v=[]\n",
    "t=[]\n",
    "l_a=[]\n",
    "for p in ['Tier 1', 'Tier 2', 'Tier 3',\n",
    "       'Tier 4', 'Tier 5']:\n",
    "    tier=df3[df3['tier'] == p]\n",
    "    l=len(tier)\n",
    "    t=np.append(t,p)\n",
    "    res_mw=stats.mannwhitneyu(sample(list(tier[tier['csm'] == 1]['mrr_retention']),60), sample(list(tier[tier['csm'] == 0]['mrr_retention']),60),alternative='greater')\n",
    "    p_v=np.append(p_v,res_mw[1])\n",
    "    l_a=np.append(l_a,l)\n",
    "    df_mw_tier=pd.DataFrame({'tier':t,'p-value':p_v,'length':l_a},index=None)\n",
    "df_mw_tier.round(4)"
   ]
  },
  {
   "cell_type": "markdown",
   "metadata": {},
   "source": [
    "------------------------------------------------------------------------------------------------------------------------"
   ]
  },
  {
   "cell_type": "markdown",
   "metadata": {},
   "source": [
    "## Sampling for test"
   ]
  },
  {
   "cell_type": "code",
   "execution_count": null,
   "metadata": {},
   "outputs": [],
   "source": [
    "df3.groupby(['Account Status', 'csm']).csm.count()"
   ]
  },
  {
   "cell_type": "code",
   "execution_count": null,
   "metadata": {},
   "outputs": [],
   "source": [
    "from random import sample\n",
    "from random import seed\n",
    "def mann_wh_tier(x):\n",
    "    tier=df3[df3['tier'] == x]\n",
    "    res_mw=stats.mannwhitneyu(sample(list(tier[tier['csm'] == 1]['mrr_retention']),250), sample(list(tier[tier['csm'] == 0]['mrr_retention']),250),alternative='greater')\n",
    "    return round(res_mw[1],2)\n",
    "def mann_wh_product(x):\n",
    "    product=df3[df3['product'] == x]\n",
    "    res_mw=stats.mannwhitneyu(sample(list(product[product['csm'] == 1]['mrr_retention']),250), sample(list(product[product['csm'] == 0]['mrr_retention']),250),alternative='greater')\n",
    "    return round(res_mw[1],2)\n",
    "def mann_wh_status(x):\n",
    "    status=df3[df3['Account Status'] == x]\n",
    "    res_mw=stats.mannwhitneyu(sample(list(status[status['csm'] == 1]['mrr_retention']),250), sample(list(status[status['csm'] == 0]['mrr_retention']),250),alternative='greater')\n",
    "    return round(res_mw[1],2)\n",
    "def kruskal_res_product():\n",
    "    kr_prod=stats.kruskal(sample(list(ent['mrr_retention']),300)\n",
    "                                 ,sample(list(prof['mrr_retention']),300)\n",
    "                                        ,sample(list(bus['mrr_retention']),300)\n",
    "                                         ,sample(list(mark['mrr_retention']),300),nan_policy='omit')\n",
    "    return round(kr_prod[1],2)\n",
    "def kruskal_res_tier():\n",
    "    kruskal_res_tier=stats.kruskal(sample(list(tier1['mrr_retention']),250)\n",
    "                                 ,sample(list(tier2['mrr_retention']),250)\n",
    "                                        ,sample(list(tier3['mrr_retention']),250)\n",
    "                                         ,sample(list(tier4['mrr_retention']),250),sample(list(tier5['mrr_retention']),250),nan_policy='omit')\n",
    "    return round(kruskal_res_tier[1],2)"
   ]
  },
  {
   "cell_type": "code",
   "execution_count": null,
   "metadata": {},
   "outputs": [],
   "source": [
    "percantage=[]\n",
    "tier=[]\n",
    "for t in ['Tier 3','Tier 4', 'Tier 5']:\n",
    "    p_value = np.empty(1000)\n",
    "    for i in range(1000):\n",
    "        p_value[i] = mann_wh_tier(t)\n",
    "    per=((p_value <= 0.05).sum())*100/len(p_value)\n",
    "    percantage=np.append(percantage,per)\n",
    "    tier=np.append(tier,t)\n",
    "    df_mw_tier=pd.DataFrame({'tier':tier,'% of cases when we reject the H0':percantage},index=None)"
   ]
  },
  {
   "cell_type": "code",
   "execution_count": null,
   "metadata": {},
   "outputs": [],
   "source": [
    "df_mw_tier"
   ]
  },
  {
   "cell_type": "code",
   "execution_count": null,
   "metadata": {},
   "outputs": [],
   "source": [
    "percantage=[]\n",
    "product=[]\n",
    "for prod in ['Enterprise', 'Professional', 'Business',\n",
    "       'Wrike for Marketers']:\n",
    "    p_value = np.empty(1000)\n",
    "    for i in range(1000):\n",
    "        p_value[i] = mann_wh_product(prod)\n",
    "    per=((p_value <= 0.05).sum())*100/len(p_value)\n",
    "    percantage=np.append(percantage,per)\n",
    "    product=np.append(product,prod)\n",
    "    df_mw_product=pd.DataFrame({'product':product,'% of cases when we reject the H0':percantage},index=None)\n",
    "df_mw_product"
   ]
  },
  {
   "cell_type": "code",
   "execution_count": null,
   "metadata": {},
   "outputs": [],
   "source": [
    "percantage=[]\n",
    "acc_status=[]\n",
    "for acc in ['New', 'One year', 'Two years','Three years','Four years','Five years']:\n",
    "    p_value = np.empty(1000)\n",
    "    for i in range(1000):\n",
    "        p_value[i] = mann_wh_status(acc)\n",
    "    per=((p_value <= 0.05).sum())*100/len(p_value)\n",
    "    percantage=np.append(percantage,per)\n",
    "    acc_status=np.append(acc_status,acc)\n",
    "    df_mw_status=pd.DataFrame({'product':acc_status,'% of cases when we reject the H0':percantage},index=None)\n",
    "df_mw_status"
   ]
  },
  {
   "cell_type": "code",
   "execution_count": null,
   "metadata": {},
   "outputs": [],
   "source": [
    "def mann_wh_status(x):\n",
    "    status=df3[df3['Account Status'] == x]\n",
    "    res_mw=stats.mannwhitneyu(sample(list(status[status['csm'] == 1]['mrr_retention']),300), sample(list(status[status['csm'] == 0]['mrr_retention']),300),alternative='greater')\n",
    "    return round(res_mw[1],2)"
   ]
  },
  {
   "cell_type": "code",
   "execution_count": null,
   "metadata": {},
   "outputs": [],
   "source": [
    "percantage=[]\n",
    "acc_status=[]\n",
    "for acc in ['New', 'One year', 'Two years','Three years','Four years','Five years']:\n",
    "    p_value = np.empty(1000)\n",
    "    for i in range(1000):\n",
    "        p_value[i] = mann_wh_status(acc)\n",
    "    per=((p_value <= 0.05).sum())*100/len(p_value)\n",
    "    percantage=np.append(percantage,per)\n",
    "    acc_status=np.append(acc_status,acc)\n",
    "    df_mw_status=pd.DataFrame({'product':acc_status,'% of cases when we reject the H0':percantage},index=None)\n",
    "df_mw_status"
   ]
  },
  {
   "cell_type": "code",
   "execution_count": null,
   "metadata": {},
   "outputs": [],
   "source": [
    "def mann_wh_status(x):\n",
    "    status=df3[df3['Account Status'] == x]\n",
    "    res_mw=stats.mannwhitneyu(sample(list(status[status['csm'] == 1]['mrr_retention']),350), sample(list(status[status['csm'] == 0]['mrr_retention']),350),alternative='greater')\n",
    "    return round(res_mw[1],2)"
   ]
  },
  {
   "cell_type": "code",
   "execution_count": null,
   "metadata": {},
   "outputs": [],
   "source": [
    "percantage=[]\n",
    "acc_status=[]\n",
    "for acc in ['New', 'One year', 'Two years','Three years','Four years','Five years']:\n",
    "    p_value = np.empty(1000)\n",
    "    for i in range(1000):\n",
    "        p_value[i] = mann_wh_status(acc)\n",
    "    per=((p_value <= 0.05).sum())*100/len(p_value)\n",
    "    percantage=np.append(percantage,per)\n",
    "    acc_status=np.append(acc_status,acc)\n",
    "    df_mw_status=pd.DataFrame({'product':acc_status,'% of cases when we reject the H0':percantage},index=None)\n",
    "df_mw_status"
   ]
  },
  {
   "cell_type": "code",
   "execution_count": null,
   "metadata": {},
   "outputs": [],
   "source": [
    "round(tt_ind_solve_power(effect_size= None, nobs1 = 350, alpha=0.05, power=0.9, alternative='larger'),3)"
   ]
  },
  {
   "cell_type": "code",
   "execution_count": null,
   "metadata": {},
   "outputs": [],
   "source": [
    "for i in range(1000):\n",
    "    p_value[i] = kruskal_res_product()\n",
    "per=((p_value <= 0.05).sum())*100/len(p_value)   \n",
    "print ('percantage of cases when we reject the H0 that there are no difference between groups: %.2f' %per) "
   ]
  },
  {
   "cell_type": "code",
   "execution_count": null,
   "metadata": {},
   "outputs": [],
   "source": [
    "def kruskal_res_product():\n",
    "    kr_prod=stats.kruskal(sample(list(ent['mrr_retention']),350)\n",
    "                                 ,sample(list(prof['mrr_retention']),350)\n",
    "                                        ,sample(list(bus['mrr_retention']),350)\n",
    "                                         ,sample(list(mark['mrr_retention']),350),nan_policy='omit')\n",
    "    return round(kr_prod[1],2)"
   ]
  },
  {
   "cell_type": "code",
   "execution_count": null,
   "metadata": {},
   "outputs": [],
   "source": [
    "for i in range(1000):\n",
    "    p_value[i] = kruskal_res_product()\n",
    "per=((p_value <= 0.05).sum())*100/len(p_value)   \n",
    "print ('percantage of cases when we reject the H0 that there are no difference between groups: %.2f' %per) "
   ]
  },
  {
   "cell_type": "code",
   "execution_count": null,
   "metadata": {},
   "outputs": [],
   "source": [
    "def kruskal_res_product():\n",
    "    kr_prod=stats.kruskal(sample(list(ent['mrr_retention']),700)\n",
    "                                 ,sample(list(prof['mrr_retention']),700)\n",
    "                                        ,sample(list(bus['mrr_retention']),700)\n",
    "                                         ,sample(list(mark['mrr_retention']),700),nan_policy='omit')\n",
    "    return round(kr_prod[1],2)"
   ]
  },
  {
   "cell_type": "code",
   "execution_count": null,
   "metadata": {},
   "outputs": [],
   "source": [
    "for i in range(1000):\n",
    "    p_value[i] = kruskal_res_product()\n",
    "per=((p_value <= 0.05).sum())*100/len(p_value)   \n",
    "print ('percantage of cases when we reject the H0 that there are no difference between groups: %.2f' %per) "
   ]
  },
  {
   "cell_type": "code",
   "execution_count": null,
   "metadata": {},
   "outputs": [],
   "source": [
    "round(tt_ind_solve_power(effect_size= None, nobs1 = 700, alpha=0.05, power=0.9, alternative='larger'),3)"
   ]
  },
  {
   "cell_type": "code",
   "execution_count": null,
   "metadata": {},
   "outputs": [],
   "source": [
    "for i in range(1000):\n",
    "    p_value[i] = kruskal_res_tier()\n",
    "per=((p_value <= 0.05).sum())*100/len(p_value)   \n",
    "print ('percantage of cases when we reject the H0 that there are no difference between groups: %.2f' %per) "
   ]
  },
  {
   "cell_type": "markdown",
   "metadata": {},
   "source": [
    "---------------------------------------------------------------------------------------------------------"
   ]
  },
  {
   "cell_type": "markdown",
   "metadata": {},
   "source": [
    "Ошибка второго рода, привет:"
   ]
  },
  {
   "cell_type": "code",
   "execution_count": null,
   "metadata": {},
   "outputs": [],
   "source": [
    "#greater test without Tier 1 and Tier 2 because almost all with csm for same size of sample\n",
    "\n",
    "from random import sample\n",
    "from random import seed\n",
    "seed(42)\n",
    "p_v=[]\n",
    "t=[]\n",
    "l_a=[]\n",
    "for p in ['Tier 3','Tier 4', 'Tier 5']:\n",
    "    tier=df3[df3['tier'] == p]\n",
    "    l=len(tier)\n",
    "    t=np.append(t,p)\n",
    "    res_mw=stats.mannwhitneyu(sample(list(tier[tier['csm'] == 1]['mrr_retention']),60), sample(list(tier[tier['csm'] == 0]['mrr_retention']),60),alternative='greater')\n",
    "    p_v=np.append(p_v,res_mw[1])\n",
    "    l_a=np.append(l_a,l)\n",
    "    df_mw_tier=pd.DataFrame({'tier':t,'p-value':p_v,'length':l_a},index=None)\n",
    "df_mw_tier.round(4)"
   ]
  },
  {
   "cell_type": "code",
   "execution_count": null,
   "metadata": {
    "scrolled": true
   },
   "outputs": [],
   "source": [
    "#greater test without Tier 1 and Tier 2 because almost all with csm for size 200 of sample\n",
    "from random import sample\n",
    "from random import seed\n",
    "seed(42)\n",
    "p_v=[]\n",
    "t=[]\n",
    "l_a=[]\n",
    "for p in ['Tier 3','Tier 4', 'Tier 5']:\n",
    "    tier=df3[df3['tier'] == p]\n",
    "    l=len(tier)\n",
    "    t=np.append(t,p)\n",
    "    res_mw=stats.mannwhitneyu(sample(list(tier[tier['csm'] == 1]['mrr_retention']),200), sample(list(tier[tier['csm'] == 0]['mrr_retention']),200),alternative='greater')\n",
    "    p_v=np.append(p_v,res_mw[1])\n",
    "    l_a=np.append(l_a,l)\n",
    "    df_mw_tier=pd.DataFrame({'tier':t,'p-value':p_v,'length':l_a},index=None)\n",
    "df_mw_tier.round(4)"
   ]
  },
  {
   "cell_type": "code",
   "execution_count": null,
   "metadata": {},
   "outputs": [],
   "source": [
    "seed(42)\n",
    "kruskal_res_product=stats.kruskal(sample(list(ent['mrr_retention']),500)\n",
    "                                 ,sample(list(prof['mrr_retention']),500)\n",
    "                                        ,sample(list(bus['mrr_retention']),500)\n",
    "                                         ,sample(list(mark['mrr_retention']),500),nan_policy='omit')\n",
    "print ('p-value for difference between product groups: %.2f' %kruskal_res_product[1])"
   ]
  },
  {
   "cell_type": "markdown",
   "metadata": {},
   "source": [
    "The differences between the medians for different products are not statistically significant"
   ]
  },
  {
   "cell_type": "code",
   "execution_count": null,
   "metadata": {},
   "outputs": [],
   "source": [
    "seed(42)\n",
    "tier1=df3[df3['tier'] == 'Tier 1']\n",
    "tier2=df3[df3['tier'] == 'Tier 2']\n",
    "tier3=df3[df3['tier'] == 'Tier 3']\n",
    "tier4=df3[df3['tier'] == 'Tier 4']\n",
    "tier5=df3[df3['tier'] == 'Tier 5']\n",
    "kruskal_res_tier=stats.kruskal(sample(list(tier1['mrr_retention']),200)\n",
    "                                 ,sample(list(tier2['mrr_retention']),200)\n",
    "                                        ,sample(list(tier3['mrr_retention']),200)\n",
    "                                         ,sample(list(tier4['mrr_retention']),200),sample(list(tier5['mrr_retention']),200),nan_policy='omit')\n",
    "print ('p-value for difference between tiers: %.2f' %kruskal_res_tier[1])"
   ]
  },
  {
   "cell_type": "markdown",
   "metadata": {},
   "source": [
    "The differences between some of the medians are statistically significant"
   ]
  },
  {
   "cell_type": "markdown",
   "metadata": {},
   "source": [
    "# Bootstrap"
   ]
  },
  {
   "cell_type": "code",
   "execution_count": null,
   "metadata": {},
   "outputs": [],
   "source": [
    "def bootstrap_replicate_1d(data, func): \n",
    "    bs_sample = np.random.choice(data, 1000) \n",
    "    return func(bs_sample) "
   ]
  },
  {
   "cell_type": "code",
   "execution_count": null,
   "metadata": {},
   "outputs": [],
   "source": [
    "import sys\n",
    "import glob\n",
    "import matplotlib.pyplot as plt\n",
    "import numpy as np\n",
    "import pandas as pd\n",
    "%matplotlib inline\n",
    "\n",
    "x=df3['mrr_retention']\n",
    "bs_replicates = np.empty(10000)\n",
    "for i in range(10000):\n",
    "        bs_replicates[i] = bootstrap_replicate_1d(x,np.mean)\n",
    "plt.hist(bs_replicates, bins=30, normed=True) \n",
    "plt.show()"
   ]
  },
  {
   "cell_type": "code",
   "execution_count": null,
   "metadata": {},
   "outputs": [],
   "source": [
    "conf_int = np.percentile(bs_replicates, [2.5, 97.5])\n",
    "conf_int"
   ]
  },
  {
   "cell_type": "code",
   "execution_count": null,
   "metadata": {},
   "outputs": [],
   "source": [
    "import sys\n",
    "import glob\n",
    "import matplotlib.pyplot as plt\n",
    "import numpy as np\n",
    "import pandas as pd\n",
    "%matplotlib inline\n",
    "\n",
    "x=df3['mrr_retention']\n",
    "bs_replicates = np.empty(10000)\n",
    "for i in range(10000):\n",
    "        bs_replicates[i] = bootstrap_replicate_1d(x,np.median)\n",
    "plt.hist(bs_replicates, bins=30, normed=True) \n",
    "plt.show()"
   ]
  },
  {
   "cell_type": "code",
   "execution_count": null,
   "metadata": {},
   "outputs": [],
   "source": [
    "np.median(x)"
   ]
  },
  {
   "cell_type": "code",
   "execution_count": null,
   "metadata": {},
   "outputs": [],
   "source": [
    "conf_int = np.percentile(bs_replicates, [2.5, 97.5])\n",
    "conf_int"
   ]
  },
  {
   "cell_type": "code",
   "execution_count": null,
   "metadata": {},
   "outputs": [],
   "source": [
    "with_csm=df3['mrr_retention'][df3['csm'] == 1]*100\n",
    "without_csm=df3['mrr_retention'][df3['csm'] == 0]*100\n",
    "bs_replicates1 = np.empty(10000)\n",
    "for i in range(10000):\n",
    "        bs_replicates1[i] = bootstrap_replicate_1d(with_csm,np.mean)\n",
    "bs_replicates2 = np.empty(10000)\n",
    "for i in range(10000):\n",
    "        bs_replicates2[i] = bootstrap_replicate_1d(without_csm,np.mean)"
   ]
  },
  {
   "cell_type": "code",
   "execution_count": null,
   "metadata": {
    "scrolled": false
   },
   "outputs": [],
   "source": [
    "plt.hist(bs_replicates1, bins=30, normed=True) \n",
    "plt.hist(bs_replicates2, bins=30, normed=True) \n",
    "plt.show()"
   ]
  },
  {
   "cell_type": "code",
   "execution_count": null,
   "metadata": {},
   "outputs": [],
   "source": [
    "conf_int1 = np.percentile(np.round(bs_replicates1,2), [2.5, 97.5])\n",
    "conf_int2 = np.percentile(np.round(bs_replicates2,2), [2.5, 97.5])\n",
    "print (np.round(conf_int1,2),np.round(conf_int2,2)"
   ]
  },
  {
   "cell_type": "markdown",
   "metadata": {},
   "source": [
    "Доверительные интервалы даже не пересекаются для средних значений"
   ]
  },
  {
   "cell_type": "code",
   "execution_count": null,
   "metadata": {},
   "outputs": [],
   "source": [
    "stats.probplot(bs_replicates1, plot= plt)\n",
    "plt.title(\"Mean of MRR Retention for aacounts with csm Probability Plot\")"
   ]
  },
  {
   "cell_type": "code",
   "execution_count": null,
   "metadata": {},
   "outputs": [],
   "source": [
    "stats.probplot(bs_replicates2, plot= plt)\n",
    "plt.title(\"Mean of MRR Retention for aacounts without csm Probability Plot\")"
   ]
  },
  {
   "cell_type": "code",
   "execution_count": null,
   "metadata": {},
   "outputs": [],
   "source": [
    "stats.ttest_ind(bs_replicates1, bs_replicates2)"
   ]
  },
  {
   "cell_type": "markdown",
   "metadata": {},
   "source": [
    "we can reject the null hypothesis"
   ]
  },
  {
   "cell_type": "code",
   "execution_count": null,
   "metadata": {},
   "outputs": [],
   "source": [
    "stats.mannwhitneyu(bs_replicates1, bs_replicates2)"
   ]
  },
  {
   "cell_type": "code",
   "execution_count": null,
   "metadata": {},
   "outputs": [],
   "source": [
    "std1=np.std(bs_replicates1)\n",
    "std2=np.std(bs_replicates2)\n",
    "\n",
    "print(round(std1,5),round(std2,5))"
   ]
  },
  {
   "cell_type": "code",
   "execution_count": null,
   "metadata": {},
   "outputs": [],
   "source": [
    "bs_replicates1.mean()-bs_replicates2.mean()"
   ]
  },
  {
   "cell_type": "code",
   "execution_count": null,
   "metadata": {},
   "outputs": [],
   "source": [
    "with_csm=df3['mrr_retention'][df3['csm'] == 1]\n",
    "without_csm=df3['mrr_retention'][df3['csm'] == 0]\n",
    "bs_replicates1 = np.empty(10000)\n",
    "for i in range(10000):\n",
    "        bs_replicates1[i] = bootstrap_replicate_1d(with_csm,np.median)\n",
    "bs_replicates2 = np.empty(10000)\n",
    "for i in range(10000):\n",
    "        bs_replicates2[i] = bootstrap_replicate_1d(without_csm,np.median)"
   ]
  },
  {
   "cell_type": "code",
   "execution_count": null,
   "metadata": {},
   "outputs": [],
   "source": [
    "conf_int1 = np.percentile(bs_replicates1, [2.5, 97.5])\n",
    "conf_int2 = np.percentile(bs_replicates2, [2.5, 97.5])\n",
    "print (conf_int1,conf_int2)"
   ]
  },
  {
   "cell_type": "code",
   "execution_count": null,
   "metadata": {},
   "outputs": [],
   "source": [
    "std1=np.std(bs_replicates1)\n",
    "std2=np.std(bs_replicates2)\n",
    "\n",
    "print(round(std1,5),round(std2,5))"
   ]
  },
  {
   "cell_type": "markdown",
   "metadata": {},
   "source": [
    "For products bootstrap"
   ]
  },
  {
   "cell_type": "code",
   "execution_count": null,
   "metadata": {},
   "outputs": [],
   "source": [
    "seed(42)\n",
    "prod=[]\n",
    "conf_int1=[]\n",
    "conf_int2=[]\n",
    "for p in ['Enterprise', 'Professional', 'Business','Wrike for Marketers']:\n",
    "    conf_int_merge1=''\n",
    "    conf_int_merge2=''\n",
    "    product=df3[df3['product'] == p]\n",
    "    prod=np.append(prod,p)\n",
    "    bs1 = np.empty(5000)\n",
    "    bs2 = np.empty(5000)\n",
    "    with_csm=product[product['csm'] == 1]['mrr_retention']*100\n",
    "    without_csm=product[product['csm'] == 0]['mrr_retention']*100\n",
    "    for i in range(5000):\n",
    "        bs1[i] = bootstrap_replicate_1d(with_csm,np.mean)\n",
    "        bs2[i] = bootstrap_replicate_1d(without_csm,np.mean)\n",
    "    interval1=np.percentile(bs1, [2.5, 97.5])\n",
    "    for element in interval1:\n",
    "        conf_int_merge1 += str(round(element,2)) + ' '\n",
    "    conf_int1 = np.append(conf_int1,conf_int_merge1)\n",
    "    interval2=np.percentile(bs2, [2.5, 97.5])\n",
    "    for element in interval2:\n",
    "        conf_int_merge2 += str(round(element,2)) + ' '\n",
    "    conf_int2 = np.append(conf_int2,conf_int_merge2)\n",
    "    df_bs_product=pd.DataFrame({'product':prod,'confidence interval with csm':conf_int1,\n",
    "                                'confidence interval without csm':conf_int2},index=None)\n",
    "df_bs_product"
   ]
  },
  {
   "cell_type": "code",
   "execution_count": null,
   "metadata": {},
   "outputs": [],
   "source": [
    "seed(42)\n",
    "prod=[]\n",
    "conf_int1=[]\n",
    "conf_int2=[]\n",
    "t=[]\n",
    "for p in ['Tier 1', 'Tier 2', 'Tier 3',\n",
    "       'Tier 4', 'Tier 5']:\n",
    "    tier=df3[df3['tier'] == p]\n",
    "    t=np.append(t,p)\n",
    "    conf_int_merge1=''\n",
    "    conf_int_merge2=''\n",
    "    bs1 = np.empty(5000)\n",
    "    bs2 = np.empty(5000)\n",
    "    with_csm=tier[tier['csm'] == 1]['mrr_retention']*100\n",
    "    without_csm=tier[tier['csm'] == 0]['mrr_retention']*100\n",
    "    for i in range(5000):\n",
    "        bs1[i] = bootstrap_replicate_1d(with_csm,np.mean)\n",
    "        bs2[i] = bootstrap_replicate_1d(without_csm,np.mean)\n",
    "    interval1=np.percentile(bs1, [2.5, 97.5])\n",
    "    for element in interval1:\n",
    "        conf_int_merge1 += str(round(element,2)) + ' '\n",
    "    conf_int1 = np.append(conf_int1,conf_int_merge1)\n",
    "    interval2=np.percentile(bs2, [2.5, 97.5])\n",
    "    for element in interval2:\n",
    "        conf_int_merge2 += str(round(element,2)) + ' '\n",
    "    conf_int2 = np.append(conf_int2,conf_int_merge2)\n",
    "    df_bs_product=pd.DataFrame({'product':t,'confidence interval with csm':conf_int1,\n",
    "                                'confidence interval without csm':conf_int2},index=None)\n",
    "df_bs_product"
   ]
  },
  {
   "cell_type": "markdown",
   "metadata": {},
   "source": [
    "# Effect size"
   ]
  },
  {
   "cell_type": "code",
   "execution_count": null,
   "metadata": {},
   "outputs": [],
   "source": [
    "#Cohen-d to know something about effect size (not for non-parametric test)\n",
    "from numpy import var\n",
    "from numpy import mean\n",
    "from math import sqrt\n",
    "# function to calculate Cohen's d for independent samples\n",
    "def cohend(d1, d2):\n",
    "    # calculate the size of samples\n",
    "    n1, n2 = len(d1), len(d2)\n",
    "    # calculate the variance of the samples\n",
    "    s1, s2 = var(d1, ddof=1), var(d2, ddof=1)\n",
    "    # calculate the pooled standard deviation\n",
    "    s = sqrt(((n1 - 1) * s1 + (n2 - 1) * s2) / (n1 + n2 - 2))\n",
    "    # calculate the means of the samples\n",
    "    u1, u2 = mean(d1), mean(d2)\n",
    "    # calculate the effect size\n",
    "    return (u1 - u2) / s\n",
    "\n",
    "d = cohend(yes_csm, no_csm)\n",
    "print('Cohens d: %.3f' % d)"
   ]
  },
  {
   "cell_type": "code",
   "execution_count": null,
   "metadata": {},
   "outputs": [],
   "source": [
    "#Power of test (for t-test)\n",
    "from statsmodels.stats.power import tt_ind_solve_power\n",
    "\n",
    "power_analysis = tt_ind_solve_power(effect_size= 0.2, nobs1 = len(df3), alpha=0.05, power=None, ratio=len(without_csm)/len(with_csm), alternative='two-sided')\n",
    "\n",
    "print('Test power: {0:.2f}'.format(power_analysis))"
   ]
  },
  {
   "cell_type": "code",
   "execution_count": null,
   "metadata": {},
   "outputs": [],
   "source": [
    "tt_ind_solve_power(effect_size= 0.4, nobs1 = None, alpha=0.05, power=0.8, alternative='larger')"
   ]
  },
  {
   "cell_type": "code",
   "execution_count": null,
   "metadata": {},
   "outputs": [],
   "source": [
    "type(df3['csm'])"
   ]
  },
  {
   "cell_type": "markdown",
   "metadata": {},
   "source": [
    "### Найти порог месяца с csm"
   ]
  },
  {
   "cell_type": "code",
   "execution_count": null,
   "metadata": {},
   "outputs": [],
   "source": [
    "k=2\n",
    "x=[]\n",
    "alpha = 0.05\n",
    "month=[]\n",
    "result=[]\n",
    "g_mean=[]\n",
    "l_mean=[]\n",
    "effect_size=[]\n",
    "for k in range(2,29):\n",
    "    with_csm=df3[df3['csm'] == 1]\n",
    "    greater = with_csm[with_csm['csm_month_step'] > k]\n",
    "    n1=len(greater)\n",
    "    g_mean = np.append(g_mean,np.median(greater['mrr_retention']))\n",
    "    lower = with_csm[with_csm['csm_month_step'] <= k]\n",
    "    n2=len(lower)\n",
    "    l_mean = np.append(l_mean,np.median(lower['mrr_retention']))\n",
    "    criterion=stats.mannwhitneyu(greater['mrr_retention'],lower['mrr_retention'])\n",
    "    x=np.append(x,criterion[1])\n",
    "    month=np.append(month,k)\n",
    "    r1=greater['mrr_retention'].median()\n",
    "    r2=lower['mrr_retention'].median()\n",
    "    r=(r1-r2)\n",
    "    effect_size=np.append(effect_size,r)\n",
    "    if criterion[1]<alpha:\n",
    "        result=np.append(result,'different mean')\n",
    "    else:\n",
    "        result=np.append(result,'no difference')    \n",
    "    df=pd.DataFrame({'csm_month':month,'p-value':x,'g_mean':g_mean,'l_mean':l_mean,'result':result,'difference':effect_size},index=None)\n",
    "df.round(3)"
   ]
  },
  {
   "cell_type": "code",
   "execution_count": null,
   "metadata": {},
   "outputs": [],
   "source": [
    "df2_filtered.boxplot(column=['mrr_retention'], by='csm')\n",
    "plt.show()"
   ]
  },
  {
   "cell_type": "markdown",
   "metadata": {},
   "source": [
    "# Classification"
   ]
  },
  {
   "cell_type": "code",
   "execution_count": null,
   "metadata": {},
   "outputs": [],
   "source": [
    "df2_filtered.groupby(['indicator_retention2']).count()"
   ]
  },
  {
   "cell_type": "code",
   "execution_count": null,
   "metadata": {},
   "outputs": [],
   "source": [
    "product=pd.get_dummies(df2_filtered['tier'])\n",
    "status=pd.get_dummies(df2_filtered['Account Status'])\n",
    "df3_filtered=pd.concat([df2_filtered,product,status],axis=1)\n",
    "df3_filtered=df3_filtered.drop(['tier','product','mrr_retention','industry'],axis=1)\n",
    "df3_filtered.head()"
   ]
  },
  {
   "cell_type": "code",
   "execution_count": null,
   "metadata": {},
   "outputs": [],
   "source": [
    "df3_filtered['indicator_retention'].unique()"
   ]
  },
  {
   "cell_type": "code",
   "execution_count": null,
   "metadata": {},
   "outputs": [],
   "source": [
    "df3_filtered.isnull().sum()"
   ]
  },
  {
   "cell_type": "code",
   "execution_count": null,
   "metadata": {},
   "outputs": [],
   "source": [
    "df3_filtered[['csm',\n",
    "              'Tier 1','Tier 2','Tier 3',\n",
    "              'Tier 4','Tier 5']] = df3_filtered[['csm','Tier 1','Tier 2','Tier 3','Tier 4','Tier 5']].astype('int64')\n",
    "df3_filtered[['indicator_retention']]=df3_filtered[['indicator_retention']].astype('object')\n",
    "feature_cols=['lic_seats1','mrr1','employees','csm_num_month1','csm_month_step','monthdiff','csm','Tier 1','Tier 2','Tier 3','Tier 4','Tier 5','New','Two years','Three years','Four years','Five years','Old (5+)']\n",
    "df3_filtered=df3_filtered.dropna()\n",
    "data_inputs = df3_filtered[feature_cols]\n",
    "expected_output = df3_filtered[['indicator_retention']]\n",
    "inputs_train, inputs_test, expected_output_train, expected_output_test = train_test_split(data_inputs, expected_output, test_size = 0.15, random_state = 42)\n",
    "inputs_train.dtypes"
   ]
  },
  {
   "cell_type": "code",
   "execution_count": null,
   "metadata": {},
   "outputs": [],
   "source": [
    "data_inputs.isnull().sum()"
   ]
  },
  {
   "cell_type": "code",
   "execution_count": null,
   "metadata": {},
   "outputs": [],
   "source": [
    "from sklearn import tree\n",
    "\n",
    "# Инициализируем модель\n",
    "model = tree.DecisionTreeClassifier(random_state=42,\n",
    "                               # функция для impurity ('gini' или 'entropy')\n",
    "                               criterion='gini',\n",
    "                               # максимальная глубина дерева\n",
    "                               max_depth=15,\n",
    "                               # минимальное число элементов в узле для разбиения (может быть долей)\n",
    "                               min_samples_split=10,\n",
    "                               # минимальное число элементов в листе (может быть долей)\n",
    "                               min_samples_leaf=5,\n",
    "                               # минимальное значение дельты impurity\n",
    "                               # min_impurity_decrease=0,\n",
    "                               # веса для классов (можно дополнительно штрафовать за ошибку в нужных классах).\n",
    "                               # поддерживает опцию 'balanced'.\n",
    "                               class_weight=None,\n",
    "                               # предварительная сортировка.\n",
    "                               # ускоряет обучение на данных небольшого размера или с ограниченной глубиной дерева.\n",
    "                               # иначе замедляет обучение.\n",
    "                               presort=False\n",
    "                              )\n",
    "model.fit(inputs_train, expected_output_train)"
   ]
  },
  {
   "cell_type": "code",
   "execution_count": null,
   "metadata": {},
   "outputs": [],
   "source": [
    "from IPython.display import Image\n",
    "from sklearn.tree import export_graphviz\n",
    "\n",
    "export_graphviz(model,\n",
    "                out_file='tree.dot',\n",
    "                # задать названия фич\n",
    "                feature_names=data_inputs.columns,\n",
    "                class_names=None,\n",
    "                # показывать названия полей у численных значений внутри узла\n",
    "                label='all',\n",
    "                # раскрашивать узлы в цвет преобладающего класса\n",
    "                filled=True,\n",
    "                # показывать значение impurity для каждого узла\n",
    "                impurity=True,\n",
    "                # показывать номера узлов\n",
    "                node_ids=True,\n",
    "                # Показывать доли каждого класса в узлах (а не количество)\n",
    "                proportion=True,\n",
    "                # Повернуть дерево на 90 градусов (вертикальная ориентация)\n",
    "                rotate=True,\n",
    "                # Число точек после запятой для отображаемых дробей\n",
    "                # precision=3\n",
    "               )"
   ]
  },
  {
   "cell_type": "code",
   "execution_count": null,
   "metadata": {
    "scrolled": true
   },
   "outputs": [],
   "source": [
    "from sklearn.externals.six import StringIO  \n",
    "from IPython.display import Image  \n",
    "import graphviz\n",
    "from sklearn import tree\n",
    "import pydotplus\n",
    "dot_data = StringIO()\n",
    "tree.export_graphviz(model, out_file=dot_data,  \n",
    "                filled=True, rounded=True,\n",
    "                special_characters=True,feature_names = feature_cols)\n",
    "graph = pydotplus.graph_from_dot_data(dot_data.getvalue())  \n",
    "graph.write_png('csm.png')\n",
    "Image(graph.create_png())"
   ]
  },
  {
   "cell_type": "code",
   "execution_count": null,
   "metadata": {},
   "outputs": [],
   "source": [
    "accuracy = model.score(inputs_test, expected_output_test)\n",
    "print(\"Accuracy = {}%\".format(accuracy * 100))"
   ]
  },
  {
   "cell_type": "code",
   "execution_count": null,
   "metadata": {},
   "outputs": [],
   "source": [
    "df3_filtered['indicator_retention'].unique()"
   ]
  },
  {
   "cell_type": "code",
   "execution_count": null,
   "metadata": {},
   "outputs": [],
   "source": [
    "m_r=[]\n",
    "length=[]\n",
    "per=[]\n",
    "for p in ['churned', 'no change', 'downgrade', 'upgrade']:\n",
    "    m_r=np.append(m_r,p)\n",
    "    l=len(df2_filtered[df2_filtered['indicator_retention']==p])\n",
    "    length=np.append(length,l)\n",
    "    per=np.append(per,(l/len(df2_filtered))*100)\n",
    "    df_l=pd.DataFrame({'indicator':m_r,'length':length,'percantage':per},index=None)\n",
    "df_l"
   ]
  },
  {
   "cell_type": "code",
   "execution_count": null,
   "metadata": {},
   "outputs": [],
   "source": [
    "n_tree=500\n",
    "nodesize=5\n",
    "mtry=math.floor(math.sqrt(len(inputs_train)-1))\n",
    "#class_weight = dict({'churned':1.9, 'no change':35, 'downgrade':180,'upgrade':})"
   ]
  },
  {
   "cell_type": "code",
   "execution_count": null,
   "metadata": {},
   "outputs": [],
   "source": [
    "#class_weight='balanced'\n",
    "rf = RandomForestClassifier (bootstrap=True,class_weight=None,\n",
    "                             n_estimators=n_tree,min_samples_leaf=nodesize,criterion='gini',random_state=42)\n",
    "rf.fit(inputs_train, expected_output_train)"
   ]
  },
  {
   "cell_type": "code",
   "execution_count": null,
   "metadata": {},
   "outputs": [],
   "source": [
    "accuracy = rf.score(inputs_train, expected_output_train)\n",
    "print(\"Accuracy = {}%\".format(accuracy * 100))"
   ]
  },
  {
   "cell_type": "code",
   "execution_count": null,
   "metadata": {},
   "outputs": [],
   "source": [
    "from sklearn.ensemble.forest import _generate_unsampled_indices\n",
    "\n",
    "def permutation_importances(rf, X_train, y_train, metric):\n",
    "    baseline = metric(rf, X_train, y_train)\n",
    "    imp = []\n",
    "    for col in X_train.columns:\n",
    "        save = X_train[col].copy()\n",
    "        X_train[col] = np.random.permutation(X_train[col])\n",
    "        m = metric(rf, X_train, y_train)\n",
    "        X_train[col] = save\n",
    "        imp.append(baseline - m)\n",
    "    return np.array(imp)\n",
    "\n",
    "def oob_classifier_accuracy(rf, X_train, y_train):\n",
    "    \"\"\"\n",
    "    Compute out-of-bag (OOB) accuracy for a scikit-learn random forest\n",
    "    classifier. We learned the guts of scikit's RF from the BSD licensed\n",
    "    code:\n",
    "    https://github.com/scikit-learn/scikit-learn/blob/a24c8b46/sklearn/ensemble/forest.py#L425\n",
    "    \"\"\"\n",
    "    X = X_train.values\n",
    "    y = y_train.values\n",
    "\n",
    "    n_samples = len(X)\n",
    "    n_classes = len(np.unique(y))\n",
    "    predictions = np.zeros((n_samples, n_classes))\n",
    "    for tree in rf.estimators_:\n",
    "        unsampled_indices = _generate_unsampled_indices(tree.random_state, n_samples)\n",
    "        tree_preds = tree.predict_proba(X[unsampled_indices, :])\n",
    "        predictions[unsampled_indices] += tree_preds\n",
    "\n",
    "    predicted_class_indexes = np.argmax(predictions, axis=1)\n",
    "    predicted_classes = [rf.classes_[i] for i in predicted_class_indexes]\n",
    "\n",
    "    oob_score = np.mean(y == predicted_classes)\n",
    "    return oob_score"
   ]
  },
  {
   "cell_type": "code",
   "execution_count": null,
   "metadata": {},
   "outputs": [],
   "source": [
    "from sklearn import metrics\n",
    "from sklearn.ensemble import RandomForestClassifier\n",
    "imp = permutation_importances(rf, inputs_train, expected_output_train,\n",
    "                              oob_classifier_accuracy)"
   ]
  },
  {
   "cell_type": "code",
   "execution_count": null,
   "metadata": {},
   "outputs": [],
   "source": [
    "imp"
   ]
  },
  {
   "cell_type": "code",
   "execution_count": null,
   "metadata": {},
   "outputs": [],
   "source": [
    "accuracy = rf.score(inputs_test, expected_output_test)\n",
    "print(\"Accuracy = {}%\".format(accuracy * 100))"
   ]
  },
  {
   "cell_type": "code",
   "execution_count": null,
   "metadata": {},
   "outputs": [],
   "source": [
    "from sklearn.metrics import confusion_matrix\n",
    "from sklearn.metrics import f1_score\n",
    "y_pred=rf.predict(inputs_test)\n",
    "class_names=['downgrade','no change', 'upgrade','churned']\n",
    "cm=confusion_matrix(expected_output_test,y_pred,labels=class_names)\n",
    "cm\n",
    "#actual - строки, predicted - столбцы"
   ]
  },
  {
   "cell_type": "code",
   "execution_count": null,
   "metadata": {},
   "outputs": [],
   "source": [
    "f1_score(expected_output_test,y_pred,labels=class_names, average='weighted') "
   ]
  },
  {
   "cell_type": "code",
   "execution_count": null,
   "metadata": {},
   "outputs": [],
   "source": [
    "#в знаменателе сумма столбца\n",
    "def precision(label, confusion_matrix):\n",
    "    col = confusion_matrix[:, label]\n",
    "    return confusion_matrix[label, label] / col.sum()\n",
    "\n",
    "#в знаменателе сумма строки\n",
    "def recall(label, confusion_matrix):\n",
    "    row = confusion_matrix[label, :]\n",
    "    return confusion_matrix[label, label] / row.sum()\n",
    "print(\"label precision recall\")\n",
    "for label in range(4):\n",
    "    print(f\"{label:5d} {precision(label, cm):9.3f} {recall(label, cm):6.3f}\")"
   ]
  },
  {
   "cell_type": "code",
   "execution_count": null,
   "metadata": {},
   "outputs": [],
   "source": [
    "pd.DataFrame({'feature': data_inputs.columns,\n",
    "              'importance': rf.feature_importances_}).sort_values('importance', ascending=False)"
   ]
  },
  {
   "cell_type": "code",
   "execution_count": null,
   "metadata": {},
   "outputs": [],
   "source": [
    "#different classes\n",
    "expected_output = df3_filtered[['indicator_retention2']]\n",
    "inputs_train, inputs_test, expected_output_train, expected_output_test = train_test_split(data_inputs, expected_output, test_size = 0.15, random_state = 42)\n",
    "inputs_train.dtypes"
   ]
  },
  {
   "cell_type": "code",
   "execution_count": null,
   "metadata": {},
   "outputs": [],
   "source": [
    "rf = RandomForestClassifier (bootstrap=True,class_weight=None,\n",
    "                             n_estimators=n_tree,min_samples_leaf=nodesize,criterion='gini',random_state=42)\n",
    "rf.fit(inputs_train, expected_output_train)"
   ]
  },
  {
   "cell_type": "code",
   "execution_count": null,
   "metadata": {},
   "outputs": [],
   "source": [
    "accuracy = rf.score(inputs_test, expected_output_test)\n",
    "print(\"Accuracy = {}%\".format(accuracy * 100))"
   ]
  },
  {
   "cell_type": "code",
   "execution_count": null,
   "metadata": {},
   "outputs": [],
   "source": [
    "accuracy = rf.score(inputs_train, expected_output_train)\n",
    "print(\"Accuracy = {}%\".format(accuracy * 100))"
   ]
  },
  {
   "cell_type": "code",
   "execution_count": null,
   "metadata": {},
   "outputs": [],
   "source": [
    "df3_filtered['indicator_retention2'].unique()"
   ]
  },
  {
   "cell_type": "code",
   "execution_count": null,
   "metadata": {},
   "outputs": [],
   "source": [
    "from sklearn.metrics import confusion_matrix\n",
    "from sklearn.metrics import f1_score\n",
    "y_pred=rf.predict(inputs_test)\n",
    "class_names=['downgrade','no change', 'upgrade (1-2)','upgrade (2-5)', 'upgrade (>5)','churned']\n",
    "cm=confusion_matrix(expected_output_test,y_pred,labels=class_names)\n",
    "cm"
   ]
  },
  {
   "cell_type": "code",
   "execution_count": null,
   "metadata": {},
   "outputs": [],
   "source": [
    "f1_score(expected_output_test,y_pred,labels=class_names, average='weighted') "
   ]
  },
  {
   "cell_type": "code",
   "execution_count": null,
   "metadata": {},
   "outputs": [],
   "source": [
    "pd.DataFrame({'feature': data_inputs.columns,\n",
    "              'importance': rf.feature_importances_}).sort_values('importance', ascending=False)"
   ]
  },
  {
   "cell_type": "markdown",
   "metadata": {},
   "source": [
    "### CatBoost"
   ]
  },
  {
   "cell_type": "code",
   "execution_count": null,
   "metadata": {},
   "outputs": [],
   "source": [
    "df2_filtered.isnull().sum()"
   ]
  },
  {
   "cell_type": "markdown",
   "metadata": {},
   "source": [
    "#### without industry"
   ]
  },
  {
   "cell_type": "code",
   "execution_count": null,
   "metadata": {},
   "outputs": [],
   "source": [
    "df2_cat=df2_filtered.drop(['mrr_retention','industry'],axis=1)\n",
    "df2_cat.isnull().sum()"
   ]
  },
  {
   "cell_type": "code",
   "execution_count": null,
   "metadata": {},
   "outputs": [],
   "source": [
    "from sklearn import preprocessing\n",
    "from catboost import CatBoostClassifier, FeaturesData, Pool\n",
    "\n",
    "df2_cat=df2_cat.dropna()\n",
    "\n",
    "feature_num=['lic_seats1','mrr1','employees','csm_num_month1','csm_month_step','monthdiff','csm']\n",
    "feature_cat=['tier','Account Status','Country']\n",
    "\n",
    "df2_cat[feature_num] = df2_cat[feature_num].astype('float32')\n",
    "\n",
    "data_inputs=df2_cat[['lic_seats1','mrr1','csm','monthdiff','employees','csm_num_month1','csm_month_step','tier','Account Status','Country']]\n",
    "le=preprocessing.LabelEncoder()\n",
    "expected_output = le.fit_transform(df2_cat[['indicator_retention']])\n",
    "inputs_train, inputs_test, expected_output_train, expected_output_test = train_test_split(data_inputs, expected_output, test_size = 0.15, random_state = 42)\n"
   ]
  },
  {
   "cell_type": "code",
   "execution_count": null,
   "metadata": {},
   "outputs": [],
   "source": [
    "le.classes_"
   ]
  },
  {
   "cell_type": "code",
   "execution_count": null,
   "metadata": {},
   "outputs": [],
   "source": [
    "inputs_train.dtypes"
   ]
  },
  {
   "cell_type": "code",
   "execution_count": null,
   "metadata": {},
   "outputs": [],
   "source": [
    "data=FeaturesData(\n",
    "        num_feature_data=inputs_train[feature_num].values,\n",
    "        cat_feature_data=inputs_train[feature_cat].values,\n",
    "        num_feature_names=feature_num,\n",
    "        cat_feature_names=feature_cat\n",
    ")\n",
    "\n",
    "train_data = Pool(\n",
    "    data=FeaturesData(\n",
    "        num_feature_data=inputs_train[feature_num].values,\n",
    "        cat_feature_data=inputs_train[feature_cat].values,\n",
    "        num_feature_names=feature_num,\n",
    "        cat_feature_names=feature_cat),\n",
    "    label=expected_output_train,\n",
    ")\n",
    "test_data = Pool(\n",
    "    data=FeaturesData(\n",
    "        num_feature_data=inputs_test[feature_num].values,\n",
    "        cat_feature_data=inputs_test[feature_cat].values,\n",
    "        num_feature_names=feature_num,\n",
    "        cat_feature_names=feature_cat),\n",
    "    label=expected_output_test\n",
    ")"
   ]
  },
  {
   "cell_type": "markdown",
   "metadata": {},
   "source": [
    "# Multiclassification"
   ]
  },
  {
   "cell_type": "code",
   "execution_count": null,
   "metadata": {
    "scrolled": true
   },
   "outputs": [],
   "source": [
    "model = CatBoostClassifier(iterations=100, learning_rate=1, depth=15, loss_function='MultiClass',eval_metric='Accuracy')\n",
    "# Fit model\n",
    "model.fit(train_data,plot=True,eval_set=test_data)\n",
    "# Get predicted classes\n",
    "preds_class = model.predict(test_data,prediction_type='Class')\n",
    "model.eval_metrics(test_data,['AUC','Accuracy'])"
   ]
  },
  {
   "cell_type": "code",
   "execution_count": null,
   "metadata": {},
   "outputs": [],
   "source": [
    "print(model.get_best_iteration())"
   ]
  },
  {
   "cell_type": "code",
   "execution_count": null,
   "metadata": {},
   "outputs": [],
   "source": [
    "print(accuracy_score(expected_output_test, preds_class))"
   ]
  },
  {
   "cell_type": "code",
   "execution_count": null,
   "metadata": {},
   "outputs": [],
   "source": [
    "print(model.eval_metrics(test_data, metrics=['Accuracy'])['Accuracy'][-1])"
   ]
  },
  {
   "cell_type": "code",
   "execution_count": null,
   "metadata": {},
   "outputs": [],
   "source": [
    "model.score(test_data)"
   ]
  },
  {
   "cell_type": "code",
   "execution_count": null,
   "metadata": {},
   "outputs": [],
   "source": [
    "model.get_feature_importance(train_data)"
   ]
  },
  {
   "cell_type": "code",
   "execution_count": null,
   "metadata": {},
   "outputs": [],
   "source": [
    "pd.DataFrame({'feature': model.feature_names_,\n",
    "              'importance': np.around(model.get_feature_importance(train_data),1)}).sort_values('importance', ascending=False)"
   ]
  },
  {
   "cell_type": "code",
   "execution_count": null,
   "metadata": {
    "scrolled": true
   },
   "outputs": [],
   "source": [
    "model = CatBoostClassifier(iterations=800, learning_rate=1, depth=15, loss_function='MultiClass',eval_metric='Accuracy')\n",
    "# Fit model\n",
    "model.fit(train_data,plot=True,eval_set=test_data)\n",
    "# Get predicted classes\n",
    "preds_class = model.predict(test_data,prediction_type='Class')\n",
    "model.eval_metrics(test_data,['AUC','Accuracy'])"
   ]
  },
  {
   "cell_type": "code",
   "execution_count": null,
   "metadata": {},
   "outputs": [],
   "source": [
    "model.score(train_data)"
   ]
  },
  {
   "cell_type": "code",
   "execution_count": null,
   "metadata": {},
   "outputs": [],
   "source": [
    "le.classes_"
   ]
  },
  {
   "cell_type": "code",
   "execution_count": null,
   "metadata": {},
   "outputs": [],
   "source": [
    "model.classes_"
   ]
  },
  {
   "cell_type": "code",
   "execution_count": null,
   "metadata": {},
   "outputs": [],
   "source": [
    "model.eval_metrics(test_data, metrics=['Precision','Recall'])"
   ]
  },
  {
   "cell_type": "markdown",
   "metadata": {},
   "source": [
    "precision:\n",
    "    churned - 0.79\n",
    "    downgrade - 0.81\n",
    "    no change - 0.75\n",
    "    upgrade - 0.81\n",
    "recall:\n",
    "    churned - 0.92\n",
    "    downgrade - 0.55\n",
    "    no change - 0.61\n",
    "    upgrade - 0.73"
   ]
  },
  {
   "cell_type": "code",
   "execution_count": null,
   "metadata": {},
   "outputs": [],
   "source": [
    "pd.DataFrame({'feature': model.feature_names_,\n",
    "              'importance': np.around(model.get_feature_importance(train_data),1)}).sort_values('importance', ascending=False)"
   ]
  },
  {
   "cell_type": "code",
   "execution_count": null,
   "metadata": {},
   "outputs": [],
   "source": [
    "model.score(test_data)"
   ]
  },
  {
   "cell_type": "markdown",
   "metadata": {},
   "source": [
    "### without churn and industry"
   ]
  },
  {
   "cell_type": "code",
   "execution_count": null,
   "metadata": {},
   "outputs": [],
   "source": [
    "df2_cat=df2_filtered.drop(['industry'],axis=1)\n",
    "df2_cat.isnull().sum()"
   ]
  },
  {
   "cell_type": "code",
   "execution_count": null,
   "metadata": {},
   "outputs": [],
   "source": [
    "df2_cat=df2_cat.dropna()\n",
    "\n",
    "feature_num=['lic_seats1','mrr1','employees','csm_num_month1','csm_month_step','monthdiff','csm']\n",
    "feature_cat=['tier','Account Status','Country']\n",
    "\n",
    "df2_cat[feature_num] = df2_cat[feature_num].astype('float32')\n",
    "\n",
    "data_inputs=df2_cat[['lic_seats1','mrr1','csm','monthdiff','employees','csm_num_month1','csm_month_step','tier','Account Status','Country']]\n",
    "le=preprocessing.LabelEncoder()\n",
    "expected_output = le.fit_transform(df2_cat[['indicator_retention']])\n",
    "inputs_train, inputs_test, expected_output_train, expected_output_test = train_test_split(data_inputs, expected_output, test_size = 0.15, random_state = 42)\n"
   ]
  },
  {
   "cell_type": "code",
   "execution_count": null,
   "metadata": {},
   "outputs": [],
   "source": [
    "data=FeaturesData(\n",
    "        num_feature_data=inputs_train[feature_num].values,\n",
    "        cat_feature_data=inputs_train[feature_cat].values,\n",
    "        num_feature_names=feature_num,\n",
    "        cat_feature_names=feature_cat\n",
    ")\n",
    "\n",
    "train_data = Pool(\n",
    "    data=FeaturesData(\n",
    "        num_feature_data=inputs_train[feature_num].values,\n",
    "        cat_feature_data=inputs_train[feature_cat].values,\n",
    "        num_feature_names=feature_num,\n",
    "        cat_feature_names=feature_cat),\n",
    "    label=expected_output_train,\n",
    ")\n",
    "test_data = Pool(\n",
    "    data=FeaturesData(\n",
    "        num_feature_data=inputs_test[feature_num].values,\n",
    "        cat_feature_data=inputs_test[feature_cat].values,\n",
    "        num_feature_names=feature_num,\n",
    "        cat_feature_names=feature_cat),\n",
    "    label=expected_output_test\n",
    ")"
   ]
  },
  {
   "cell_type": "code",
   "execution_count": null,
   "metadata": {
    "scrolled": true
   },
   "outputs": [],
   "source": [
    "model = CatBoostClassifier(iterations=800, learning_rate=1, depth=7, loss_function='MultiClass',eval_metric='Accuracy')\n",
    "# Fit model\n",
    "model.fit(train_data,plot=True,eval_set=test_data)\n",
    "# Get predicted classes\n",
    "preds_class = model.predict(test_data,prediction_type='Class')\n",
    "model.eval_metrics(test_data,['AUC','Accuracy'])"
   ]
  },
  {
   "cell_type": "code",
   "execution_count": null,
   "metadata": {},
   "outputs": [],
   "source": [
    "model.score(train_data)"
   ]
  },
  {
   "cell_type": "code",
   "execution_count": null,
   "metadata": {},
   "outputs": [],
   "source": [
    "model.score(test_data)"
   ]
  },
  {
   "cell_type": "code",
   "execution_count": null,
   "metadata": {},
   "outputs": [],
   "source": [
    "le.classes_"
   ]
  },
  {
   "cell_type": "code",
   "execution_count": null,
   "metadata": {},
   "outputs": [],
   "source": [
    "model.classes_"
   ]
  },
  {
   "cell_type": "code",
   "execution_count": null,
   "metadata": {},
   "outputs": [],
   "source": [
    "model.eval_metrics(test_data, metrics=['Precision','Recall'])"
   ]
  },
  {
   "cell_type": "code",
   "execution_count": null,
   "metadata": {},
   "outputs": [],
   "source": [
    "precision:\n",
    "    downgrade - 0.83\n",
    "    no change - 0.86\n",
    "    upgrade - 0.87\n",
    "recall:\n",
    "    downgrade - 0.7\n",
    "    no change - 0.91\n",
    "    upgrade - 0.83"
   ]
  },
  {
   "cell_type": "code",
   "execution_count": null,
   "metadata": {},
   "outputs": [],
   "source": [
    "pd.DataFrame({'feature': model.feature_names_,\n",
    "              'importance': np.around(model.get_feature_importance(train_data),1)}).sort_values('importance', ascending=False)"
   ]
  },
  {
   "cell_type": "markdown",
   "metadata": {},
   "source": [
    "### more classes without churn and industry"
   ]
  },
  {
   "cell_type": "code",
   "execution_count": null,
   "metadata": {},
   "outputs": [],
   "source": [
    "feature_num=['lic_seats1','mrr1','employees','csm_num_month1','csm_month_step','monthdiff','csm']\n",
    "feature_cat=['tier','Account Status','Country']\n",
    "\n",
    "df2_cat[feature_num] = df2_cat[feature_num].astype('float32')\n",
    "\n",
    "data_inputs=df2_cat[['lic_seats1','mrr1','csm','monthdiff','employees','csm_num_month1','csm_month_step','tier','Account Status','Country']]\n",
    "le=preprocessing.LabelEncoder()\n",
    "expected_output = le.fit_transform(df2_cat[['indicator_retention2']])\n",
    "inputs_train, inputs_test, expected_output_train, expected_output_test = train_test_split(data_inputs, expected_output, test_size = 0.15, random_state = 42)\n"
   ]
  },
  {
   "cell_type": "code",
   "execution_count": null,
   "metadata": {},
   "outputs": [],
   "source": [
    "train_data = Pool(\n",
    "    data=FeaturesData(\n",
    "        num_feature_data=inputs_train[feature_num].values,\n",
    "        cat_feature_data=inputs_train[feature_cat].values,\n",
    "        num_feature_names=feature_num,\n",
    "        cat_feature_names=feature_cat),\n",
    "    label=expected_output_train,\n",
    ")\n",
    "test_data = Pool(\n",
    "    data=FeaturesData(\n",
    "        num_feature_data=inputs_test[feature_num].values,\n",
    "        cat_feature_data=inputs_test[feature_cat].values,\n",
    "        num_feature_names=feature_num,\n",
    "        cat_feature_names=feature_cat),\n",
    "    label=expected_output_test\n",
    ")"
   ]
  },
  {
   "cell_type": "code",
   "execution_count": null,
   "metadata": {},
   "outputs": [],
   "source": [
    "model = CatBoostClassifier(iterations=800, learning_rate=1, depth=7, loss_function='MultiClass',eval_metric='Accuracy')\n",
    "# Fit model\n",
    "model.fit(train_data,plot=True,eval_set=test_data)\n",
    "# Get predicted classes\n",
    "preds_class = model.predict(test_data,prediction_type='Class')\n",
    "model.eval_metrics(test_data,['AUC','Accuracy'])"
   ]
  },
  {
   "cell_type": "code",
   "execution_count": null,
   "metadata": {},
   "outputs": [],
   "source": [
    "model.score(train_data)"
   ]
  },
  {
   "cell_type": "code",
   "execution_count": null,
   "metadata": {},
   "outputs": [],
   "source": [
    "model.score(test_data)"
   ]
  },
  {
   "cell_type": "code",
   "execution_count": null,
   "metadata": {},
   "outputs": [],
   "source": [
    "le.classes_"
   ]
  },
  {
   "cell_type": "code",
   "execution_count": null,
   "metadata": {},
   "outputs": [],
   "source": [
    "model.classes_"
   ]
  },
  {
   "cell_type": "code",
   "execution_count": null,
   "metadata": {},
   "outputs": [],
   "source": [
    "model.eval_metrics(test_data, metrics=['Precision','Recall'])"
   ]
  },
  {
   "cell_type": "code",
   "execution_count": null,
   "metadata": {},
   "outputs": [],
   "source": [
    "precision:\n",
    "    'downgrade' - 0.81\n",
    "    'no change' - 0.85\n",
    "    'upgrade (1-2)' - 0.83\n",
    "    'upgrade (2-5)' - 0.77\n",
    "    'upgrade (>5)' - 0.83\n",
    "recall:\n",
    "    'downgrade' - 0.68\n",
    "    'no change' - 0.92\n",
    "    'upgrade (1-2)' - 0.81\n",
    "    'upgrade (2-5)' - 0.59\n",
    "    'upgrade (>5)' - 0.55"
   ]
  },
  {
   "cell_type": "code",
   "execution_count": null,
   "metadata": {},
   "outputs": [],
   "source": [
    "pd.DataFrame({'feature': model.feature_names_,\n",
    "              'importance': np.around(model.get_feature_importance(train_data),1)}).sort_values('importance', ascending=False)"
   ]
  },
  {
   "cell_type": "markdown",
   "metadata": {},
   "source": [
    "### with industry and with churn"
   ]
  },
  {
   "cell_type": "code",
   "execution_count": null,
   "metadata": {},
   "outputs": [],
   "source": [
    "df2_cat=df2_filtered.drop(['mrr_retention'],axis=1)\n",
    "df2_cat.isnull().sum()"
   ]
  },
  {
   "cell_type": "code",
   "execution_count": null,
   "metadata": {},
   "outputs": [],
   "source": [
    "df2_cat=df2_cat.dropna()\n",
    "\n",
    "feature_num=['lic_seats1','mrr1','employees','csm_num_month1','csm_month_step','monthdiff','csm']\n",
    "feature_cat=['tier','Account Status','Country','industry']\n",
    "\n",
    "df2_cat[feature_num] = df2_cat[feature_num].astype('float32')\n",
    "\n",
    "data_inputs=df2_cat[['lic_seats1','mrr1','csm','monthdiff','employees','csm_num_month1','csm_month_step','tier','industry','Account Status','Country']]\n",
    "le=preprocessing.LabelEncoder()\n",
    "expected_output = le.fit_transform(df2_cat[['indicator_retention']])\n",
    "inputs_train, inputs_test, expected_output_train, expected_output_test = train_test_split(data_inputs, expected_output, test_size = 0.15, random_state = 42)\n"
   ]
  },
  {
   "cell_type": "code",
   "execution_count": null,
   "metadata": {},
   "outputs": [],
   "source": [
    "data=FeaturesData(\n",
    "        num_feature_data=inputs_train[feature_num].values,\n",
    "        cat_feature_data=inputs_train[feature_cat].values,\n",
    "        num_feature_names=feature_num,\n",
    "        cat_feature_names=feature_cat\n",
    ")\n",
    "\n",
    "train_data = Pool(\n",
    "    data=FeaturesData(\n",
    "        num_feature_data=inputs_train[feature_num].values,\n",
    "        cat_feature_data=inputs_train[feature_cat].values,\n",
    "        num_feature_names=feature_num,\n",
    "        cat_feature_names=feature_cat),\n",
    "    label=expected_output_train,\n",
    ")\n",
    "test_data = Pool(\n",
    "    data=FeaturesData(\n",
    "        num_feature_data=inputs_test[feature_num].values,\n",
    "        cat_feature_data=inputs_test[feature_cat].values,\n",
    "        num_feature_names=feature_num,\n",
    "        cat_feature_names=feature_cat),\n",
    "    label=expected_output_test\n",
    ")"
   ]
  },
  {
   "cell_type": "code",
   "execution_count": null,
   "metadata": {
    "scrolled": true
   },
   "outputs": [],
   "source": [
    "model = CatBoostClassifier(iterations=100, learning_rate=1, depth=7, loss_function='MultiClass',eval_metric='Accuracy')\n",
    "# Fit model\n",
    "model.fit(train_data,plot=True,eval_set=test_data)\n",
    "# Get predicted classes\n",
    "preds_class = model.predict(test_data,prediction_type='Class')\n",
    "model.eval_metrics(test_data,['AUC','Accuracy'])"
   ]
  },
  {
   "cell_type": "code",
   "execution_count": null,
   "metadata": {},
   "outputs": [],
   "source": [
    "model.score(train_data)"
   ]
  },
  {
   "cell_type": "code",
   "execution_count": null,
   "metadata": {},
   "outputs": [],
   "source": [
    "model.score(test_data)"
   ]
  },
  {
   "cell_type": "code",
   "execution_count": null,
   "metadata": {},
   "outputs": [],
   "source": [
    "pd.DataFrame({'feature': model.feature_names_,\n",
    "              'importance': np.around(model.get_feature_importance(train_data),1)}).sort_values('importance', ascending=False)"
   ]
  },
  {
   "cell_type": "markdown",
   "metadata": {},
   "source": [
    "### with industry and without NA in mrr retention - without churn"
   ]
  },
  {
   "cell_type": "code",
   "execution_count": null,
   "metadata": {},
   "outputs": [],
   "source": [
    "df2_cat=df2_filtered\n",
    "df2_cat.isnull().sum()"
   ]
  },
  {
   "cell_type": "code",
   "execution_count": null,
   "metadata": {},
   "outputs": [],
   "source": [
    "df2_cat=df2_cat.dropna()\n",
    "\n",
    "feature_num=['lic_seats1','mrr1','employees','csm_num_month1','csm_month_step','monthdiff','csm']\n",
    "feature_cat=['tier','Account Status','Country','industry']\n",
    "\n",
    "df2_cat[feature_num] = df2_cat[feature_num].astype('float32')\n",
    "\n",
    "data_inputs=df2_cat[['lic_seats1','mrr1','csm','monthdiff','employees','csm_num_month1','csm_month_step','tier','industry','Account Status','Country']]\n",
    "le=preprocessing.LabelEncoder()\n",
    "expected_output = le.fit_transform(df2_cat[['indicator_retention']])\n",
    "inputs_train, inputs_test, expected_output_train, expected_output_test = train_test_split(data_inputs, expected_output, test_size = 0.15, random_state = 42)\n"
   ]
  },
  {
   "cell_type": "code",
   "execution_count": null,
   "metadata": {},
   "outputs": [],
   "source": [
    "data=FeaturesData(\n",
    "        num_feature_data=inputs_train[feature_num].values,\n",
    "        cat_feature_data=inputs_train[feature_cat].values,\n",
    "        num_feature_names=feature_num,\n",
    "        cat_feature_names=feature_cat\n",
    ")\n",
    "\n",
    "train_data = Pool(\n",
    "    data=FeaturesData(\n",
    "        num_feature_data=inputs_train[feature_num].values,\n",
    "        cat_feature_data=inputs_train[feature_cat].values,\n",
    "        num_feature_names=feature_num,\n",
    "        cat_feature_names=feature_cat),\n",
    "    label=expected_output_train,\n",
    ")\n",
    "test_data = Pool(\n",
    "    data=FeaturesData(\n",
    "        num_feature_data=inputs_test[feature_num].values,\n",
    "        cat_feature_data=inputs_test[feature_cat].values,\n",
    "        num_feature_names=feature_num,\n",
    "        cat_feature_names=feature_cat),\n",
    "    label=expected_output_test\n",
    ")"
   ]
  },
  {
   "cell_type": "code",
   "execution_count": null,
   "metadata": {
    "scrolled": true
   },
   "outputs": [],
   "source": [
    "model = CatBoostClassifier(iterations=100, learning_rate=1, depth=7, loss_function='MultiClass',eval_metric='Accuracy')\n",
    "# Fit model\n",
    "model.fit(train_data,plot=True,eval_set=test_data)\n",
    "# Get predicted classes\n",
    "preds_class = model.predict(test_data,prediction_type='Class')\n",
    "model.eval_metrics(test_data,['AUC','Accuracy'])"
   ]
  },
  {
   "cell_type": "code",
   "execution_count": null,
   "metadata": {},
   "outputs": [],
   "source": [
    "model.score(train_data)"
   ]
  },
  {
   "cell_type": "code",
   "execution_count": null,
   "metadata": {},
   "outputs": [],
   "source": [
    "model.score(test_data)"
   ]
  },
  {
   "cell_type": "code",
   "execution_count": null,
   "metadata": {},
   "outputs": [],
   "source": [
    "pd.DataFrame({'feature': model.feature_names_,\n",
    "              'importance': np.around(model.get_feature_importance(train_data),1)}).sort_values('importance', ascending=False)"
   ]
  },
  {
   "cell_type": "code",
   "execution_count": null,
   "metadata": {},
   "outputs": [],
   "source": [
    "model = CatBoostClassifier(iterations=500, learning_rate=1, depth=7, loss_function='MultiClass',eval_metric='Accuracy')\n",
    "# Fit model\n",
    "model.fit(train_data,plot=True,eval_set=test_data)\n",
    "# Get predicted classes\n",
    "preds_class = model.predict(test_data,prediction_type='Class')\n",
    "model.eval_metrics(test_data,['AUC','Accuracy'])"
   ]
  },
  {
   "cell_type": "code",
   "execution_count": null,
   "metadata": {},
   "outputs": [],
   "source": [
    "model.score(train_data)"
   ]
  },
  {
   "cell_type": "code",
   "execution_count": null,
   "metadata": {},
   "outputs": [],
   "source": [
    "model.score(test_data)"
   ]
  },
  {
   "cell_type": "code",
   "execution_count": null,
   "metadata": {},
   "outputs": [],
   "source": [
    "pd.DataFrame({'feature': model.feature_names_,\n",
    "              'importance': np.around(model.get_feature_importance(train_data),1)}).sort_values('importance', ascending=False)"
   ]
  },
  {
   "cell_type": "markdown",
   "metadata": {},
   "source": [
    "__________________________________________________________________________________________________________________________"
   ]
  },
  {
   "cell_type": "markdown",
   "metadata": {},
   "source": [
    "# More categories for indicator retention"
   ]
  },
  {
   "cell_type": "code",
   "execution_count": null,
   "metadata": {},
   "outputs": [],
   "source": [
    "df2_cat=df2_cat.dropna()\n",
    "\n",
    "data_inputs=df2_cat[['lic_seats1','mrr1','csm','employees','csm_num_month1','monthdiff','csm_month_step','tier','Account Status','industry','Country']]\n",
    "le=preprocessing.LabelEncoder()\n",
    "expected_output = le.fit_transform(df2_cat[['indicator_retention2']])\n",
    "inputs_train, inputs_test, expected_output_train, expected_output_test = train_test_split(data_inputs, expected_output, test_size = 0.15, random_state = 42)\n",
    "feature_num=['lic_seats1','mrr1','employees','csm_num_month1','csm_month_step','monthdiff','csm']\n",
    "feature_cat=['tier','Account Status','industry','Country']\n",
    "\n",
    "data=FeaturesData(\n",
    "        num_feature_data=inputs_train[feature_num].values,\n",
    "        cat_feature_data=inputs_train[feature_cat].values,\n",
    "        num_feature_names=feature_num,\n",
    "        cat_feature_names=feature_cat)\n",
    "\n",
    "train_data = Pool(\n",
    "    data=FeaturesData(\n",
    "        num_feature_data=inputs_train[feature_num].values,\n",
    "        cat_feature_data=inputs_train[feature_cat].values,\n",
    "        num_feature_names=feature_num,\n",
    "        cat_feature_names=feature_cat),\n",
    "    label=expected_output_train\n",
    ")\n",
    "test_data = Pool(\n",
    "    data=FeaturesData(\n",
    "        num_feature_data=inputs_test[feature_num].values,\n",
    "        cat_feature_data=inputs_test[feature_cat].values,\n",
    "        num_feature_names=feature_num,\n",
    "        cat_feature_names=feature_cat),\n",
    "    label=expected_output_test\n",
    ")"
   ]
  },
  {
   "cell_type": "code",
   "execution_count": null,
   "metadata": {
    "scrolled": true
   },
   "outputs": [],
   "source": [
    "model = CatBoostClassifier(iterations=100, learning_rate=1, depth=7, loss_function='MultiClass',eval_metric='Accuracy')\n",
    "# Fit model\n",
    "model.fit(train_data,plot=True,eval_set=test_data)\n",
    "# Get predicted classes\n",
    "preds_class = model.predict(test_data,prediction_type='Class')\n",
    "model.eval_metrics(test_data,['AUC','Accuracy'])"
   ]
  },
  {
   "cell_type": "code",
   "execution_count": null,
   "metadata": {},
   "outputs": [],
   "source": [
    "print(model.eval_metrics(test_data, metrics=['Accuracy'])['Accuracy'][-1])"
   ]
  },
  {
   "cell_type": "code",
   "execution_count": null,
   "metadata": {},
   "outputs": [],
   "source": [
    "pd.DataFrame({'feature': model.feature_names_,\n",
    "              'importance': np.round(model.get_feature_importance(train_data),1)}).sort_values('importance', ascending=False)"
   ]
  },
  {
   "cell_type": "code",
   "execution_count": null,
   "metadata": {
    "scrolled": true
   },
   "outputs": [],
   "source": [
    "model = CatBoostClassifier(iterations=500, learning_rate=1, depth=7, loss_function='MultiClass',eval_metric='Accuracy')\n",
    "# Fit model\n",
    "model.fit(train_data,plot=True,eval_set=test_data)\n",
    "# Get predicted classes\n",
    "preds_class = model.predict(test_data,prediction_type='Class')\n",
    "model.eval_metrics(test_data,['AUC','Accuracy'])"
   ]
  },
  {
   "cell_type": "code",
   "execution_count": null,
   "metadata": {},
   "outputs": [],
   "source": [
    "pd.DataFrame({'feature': model.feature_names_,\n",
    "              'importance': model.get_feature_importance(train_data)}).sort_values('importance', ascending=False)"
   ]
  },
  {
   "cell_type": "markdown",
   "metadata": {},
   "source": [
    "# CatBoostGergessor"
   ]
  },
  {
   "cell_type": "code",
   "execution_count": null,
   "metadata": {},
   "outputs": [],
   "source": [
    "df2_cat=df2_cat.dropna()\n",
    "\n",
    "data_inputs=df2_cat[['lic_seats1','mrr1','csm','employees','csm_num_month1','monthdiff','csm_month_step','tier','Account Status','industry','Country']]\n",
    "le=preprocessing.LabelEncoder()\n",
    "expected_output = le.fit_transform(df2_cat[['mrr_retention']])\n",
    "inputs_train, inputs_test, expected_output_train, expected_output_test = train_test_split(data_inputs, expected_output, test_size = 0.15, random_state = 42)\n",
    "feature_num=['lic_seats1','mrr1','employees','csm_num_month1','csm_month_step','monthdiff','csm']\n",
    "feature_cat=['tier','Account Status','industry','Country']\n",
    "\n",
    "data=FeaturesData(\n",
    "        num_feature_data=inputs_train[feature_num].values,\n",
    "        cat_feature_data=inputs_train[feature_cat].values,\n",
    "        num_feature_names=feature_num,\n",
    "        cat_feature_names=feature_cat)\n",
    "\n",
    "train_data = Pool(\n",
    "    data=FeaturesData(\n",
    "        num_feature_data=inputs_train[feature_num].values,\n",
    "        cat_feature_data=inputs_train[feature_cat].values,\n",
    "        num_feature_names=feature_num,\n",
    "        cat_feature_names=feature_cat),\n",
    "    label=expected_output_train\n",
    ")\n",
    "test_data = Pool(\n",
    "    data=FeaturesData(\n",
    "        num_feature_data=inputs_test[feature_num].values,\n",
    "        cat_feature_data=inputs_test[feature_cat].values,\n",
    "        num_feature_names=feature_num,\n",
    "        cat_feature_names=feature_cat),\n",
    "    label=expected_output_test\n",
    ")"
   ]
  },
  {
   "cell_type": "code",
   "execution_count": null,
   "metadata": {
    "scrolled": true
   },
   "outputs": [],
   "source": [
    "from catboost import CatBoostRegressor\n",
    "model = CatBoostRegressor(iterations=100, learning_rate=1, depth=7)\n",
    "# Fit model\n",
    "model.fit(train_data,plot=True,eval_set=test_data)\n",
    "# Get predicted classes\n",
    "preds_class = model.predict(test_data)"
   ]
  },
  {
   "cell_type": "code",
   "execution_count": null,
   "metadata": {},
   "outputs": [],
   "source": [
    "model.score(test_data)"
   ]
  },
  {
   "cell_type": "code",
   "execution_count": null,
   "metadata": {},
   "outputs": [],
   "source": [
    "model.score(train_data)"
   ]
  },
  {
   "cell_type": "code",
   "execution_count": null,
   "metadata": {},
   "outputs": [],
   "source": [
    "print(round(model.eval_metrics(test_data, metrics=['R2'])['R2'][-1],4))"
   ]
  },
  {
   "cell_type": "code",
   "execution_count": null,
   "metadata": {},
   "outputs": [],
   "source": [
    "pd.DataFrame({'feature': model.feature_names_,\n",
    "              'importance': np.round(model.get_feature_importance(train_data),1)}).sort_values('importance', ascending=False)"
   ]
  },
  {
   "cell_type": "code",
   "execution_count": null,
   "metadata": {},
   "outputs": [],
   "source": [
    "model = CatBoostRegressor(iterations=500, learning_rate=1, depth=7)\n",
    "# Fit model\n",
    "model.fit(train_data,plot=True,eval_set=test_data)\n",
    "# Get predicted classes\n",
    "preds_class = model.predict(test_data)"
   ]
  },
  {
   "cell_type": "code",
   "execution_count": null,
   "metadata": {},
   "outputs": [],
   "source": [
    "model.score(test_data)"
   ]
  },
  {
   "cell_type": "code",
   "execution_count": null,
   "metadata": {},
   "outputs": [],
   "source": [
    "model.score(train_data)"
   ]
  },
  {
   "cell_type": "code",
   "execution_count": null,
   "metadata": {},
   "outputs": [],
   "source": [
    "print(round(model.eval_metrics(test_data, metrics=['R2'])['R2'][-1],4))"
   ]
  },
  {
   "cell_type": "code",
   "execution_count": null,
   "metadata": {},
   "outputs": [],
   "source": [
    "pd.DataFrame({'feature': model.feature_names_,\n",
    "              'importance': np.round(model.get_feature_importance(train_data),1)}).sort_values('importance', ascending=False)"
   ]
  },
  {
   "attachments": {
    "image.png": {
     "image/png": "[encoded data removed]"
    }
   },
   "cell_type": "markdown",
   "metadata": {},
   "source": [
    "![image.png](attachment:image.png)"
   ]
  },
  {
   "cell_type": "code",
   "execution_count": null,
   "metadata": {},
   "outputs": [],
   "source": [
    "model = CatBoostRegressor(iterations=100, learning_rate=1, depth=7,loss_function='MAE')\n",
    "# Fit model\n",
    "model.fit(train_data,plot=True,eval_set=test_data)\n",
    "# Get predicted classes\n",
    "preds_class = model.predict(test_data)"
   ]
  },
  {
   "cell_type": "code",
   "execution_count": null,
   "metadata": {},
   "outputs": [],
   "source": [
    "print(model.eval_metrics(test_data, metrics=['MAE'])['MAE'][-1])"
   ]
  },
  {
   "cell_type": "code",
   "execution_count": null,
   "metadata": {},
   "outputs": [],
   "source": [
    "print(model.eval_metrics(train_data, metrics=['MAE'])['MAE'][-1])"
   ]
  },
  {
   "cell_type": "code",
   "execution_count": null,
   "metadata": {},
   "outputs": [],
   "source": [
    "print(round(model.eval_metrics(test_data, metrics=['R2'])['R2'][-1],4))"
   ]
  },
  {
   "attachments": {
    "image.png": {
     "image/png": "[encoded data removed]"
    }
   },
   "cell_type": "markdown",
   "metadata": {},
   "source": [
    "When R² is negative it means that the model is worse than predicting the mean.\n",
    "![image.png](attachment:image.png)\n",
    "To make it more clear, this baseline MSE can be thought of as the MSE that the simplest possible model would get. The simplest possible model would be to always predict the average of all samples. A value close to 1 indicates a model with close to zero error, and a value close to zero indicates a model very close to the baseline."
   ]
  },
  {
   "cell_type": "code",
   "execution_count": null,
   "metadata": {},
   "outputs": [],
   "source": [
    "pd.DataFrame({'feature': model.feature_names_,\n",
    "              'importance': np.round(model.get_feature_importance(train_data),1)}).sort_values('importance', ascending=False)"
   ]
  },
  {
   "cell_type": "markdown",
   "metadata": {},
   "source": [
    "### Регрессия"
   ]
  },
  {
   "cell_type": "code",
   "execution_count": null,
   "metadata": {},
   "outputs": [],
   "source": [
    "df2_filtered.groupby(['tier', 'csm']).csm.count()"
   ]
  },
  {
   "cell_type": "code",
   "execution_count": null,
   "metadata": {},
   "outputs": [],
   "source": [
    "import seaborn as sns"
   ]
  },
  {
   "cell_type": "code",
   "execution_count": null,
   "metadata": {},
   "outputs": [],
   "source": [
    "product=pd.get_dummies(df2_filtered['tier'])\n",
    "df_ols=pd.concat([df2_filtered,product],axis=1)\n",
    "df_ols=df_ols[df_ols['indicator_retention']!='churned']\n",
    "df_ols.head()"
   ]
  },
  {
   "cell_type": "code",
   "execution_count": null,
   "metadata": {},
   "outputs": [],
   "source": [
    "df_ols.isnull().sum()"
   ]
  },
  {
   "cell_type": "code",
   "execution_count": null,
   "metadata": {},
   "outputs": [],
   "source": [
    "df_ols['csm']=df_ols['csm'].astype('int64')\n",
    "df_ols['csm_month_step']=df_ols['csm_month_step'].astype('int64')\n",
    "df_ols['mrr1']=df_ols['mrr1'].astype('float64')\n",
    "df_ols['employees']=df_ols['employees'].astype('float64')"
   ]
  },
  {
   "cell_type": "code",
   "execution_count": null,
   "metadata": {},
   "outputs": [],
   "source": [
    "features = df_ols[[\n",
    "    'csm_month_step','employees','mrr1'\n",
    "]]\n",
    "target = df_ols[['mrr_retention']]"
   ]
  },
  {
   "cell_type": "code",
   "execution_count": null,
   "metadata": {},
   "outputs": [],
   "source": [
    "import matplotlib.pyplot as plt\n",
    "\n",
    "corr = df_ols[[\n",
    "    'mrr_retention','csm','mrr1','Tier 1','Tier 2','Tier 3',\n",
    "    'Tier 4','Tier 5','csm_num_month1','csm_month_step','employees'\n",
    "]].corr()\n",
    "corr.style.background_gradient().set_precision(2)"
   ]
  },
  {
   "cell_type": "code",
   "execution_count": null,
   "metadata": {},
   "outputs": [],
   "source": [
    "df_ols['log_mrr']=np.log(df_ols['mrr1'])\n",
    "df_ols['log_employees']=np.log(df_ols['employees'])\n",
    "df_ols['mrr^2']=np.multiply(df_ols['mrr1'],df_ols['mrr1'])\n",
    "df_ols.head()"
   ]
  },
  {
   "cell_type": "code",
   "execution_count": null,
   "metadata": {
    "scrolled": false
   },
   "outputs": [],
   "source": [
    "import statsmodels as sm\n",
    "from statsmodels.stats.api import het_breuschpagan\n",
    "from statsmodels.formula.api import Logit, OLS, ols\n",
    "from numpy import NaN\n",
    "\n",
    "X = features ## X usually means our input variables (or independent variables)\n",
    "y = target ## Y usually means our output/dependent variable\n",
    "X = sm.tools.add_constant(X.astype(float)) ## let's add an intercept (beta_0) to our model\n",
    "\n",
    "# Note the difference in argument order\n",
    "model = OLS(y, X.astype(float), missing='drop').fit() ## sm.OLS(output, input)\n",
    "\n",
    "# Print out the statistics\n",
    "model.summary()\n",
    "    \n"
   ]
  },
  {
   "cell_type": "code",
   "execution_count": null,
   "metadata": {},
   "outputs": [],
   "source": [
    "from statsmodels.compat import lzip\n",
    "name = ['Lagrange multiplier statistic', 'p-value', \n",
    "        'f-value', 'f p-value']\n",
    "test = het_breuschpagan(model.resid, model.model.exog)\n",
    "lzip(name, test)"
   ]
  },
  {
   "cell_type": "markdown",
   "metadata": {},
   "source": [
    "HC0, not good on sample size ≤ 250\n",
    "HC1, not good on sample size ≤ 250\n",
    "HC2, good on sample size ≤ 250\n",
    "HC3, which out performs HC0, HC1, and HC2 when sample size ≤ 250\n",
    "Little difference in performance when sample is ≥ 500"
   ]
  },
  {
   "cell_type": "code",
   "execution_count": null,
   "metadata": {},
   "outputs": [],
   "source": [
    "stats.probplot(model.resid, plot= plt)\n",
    "plt.title(\"Model1 Residuals Probability Plot\")"
   ]
  },
  {
   "cell_type": "markdown",
   "metadata": {},
   "source": [
    "Cook's distance"
   ]
  },
  {
   "cell_type": "code",
   "execution_count": null,
   "metadata": {},
   "outputs": [],
   "source": [
    "def cook_dist(X, y, model):\n",
    "    \"\"\"Vectorized version of Cook's distance.\"\"\"\n",
    "    n = len(X)\n",
    "    fitted = model(y, X.astype(float), missing='drop').fit()\n",
    "    yhat = fitted.predict(X)\n",
    "    p = len(fitted.params)\n",
    "    mse = np.sum((yhat - y)**2.0)/n\n",
    "    denom = p*mse\n",
    "    idx = np.arange(n)\n",
    "    return np.array([np.sum((yhat - model(y[idx!=i], X[idx!=i]).fit().predict(X))**2.0) for i in range(n)])/denom"
   ]
  },
  {
   "cell_type": "code",
   "execution_count": null,
   "metadata": {},
   "outputs": [],
   "source": [
    "model = OLS\n",
    "d = cook_dist(X, y, model)\n",
    "plt.stem(d);"
   ]
  },
  {
   "cell_type": "markdown",
   "metadata": {},
   "source": [
    "model’s residuals are not normally distributed"
   ]
  },
  {
   "cell_type": "code",
   "execution_count": null,
   "metadata": {},
   "outputs": [],
   "source": [
    "stats.kstest(model.resid, 'norm')"
   ]
  },
  {
   "cell_type": "code",
   "execution_count": null,
   "metadata": {},
   "outputs": [],
   "source": [
    "features = df_ols[[\n",
    "    'csm_month_step','log_mrr','log_employees'\n",
    "]]\n",
    "target = df_ols[['mrr_retention']]"
   ]
  },
  {
   "cell_type": "code",
   "execution_count": null,
   "metadata": {},
   "outputs": [],
   "source": [
    "X = features ## X usually means our input variables (or independent variables)\n",
    "y = target ## Y usually means our output/dependent variable\n",
    "X = sm.tools.add_constant(X.astype(float))\n",
    "model = OLS(y, X.astype(float), missing='drop').fit() ## sm.OLS(output, input)\n",
    "\n",
    "# Print out the statistics\n",
    "print(model.summary())"
   ]
  },
  {
   "cell_type": "code",
   "execution_count": null,
   "metadata": {},
   "outputs": [],
   "source": [
    "features = df_ols[[\n",
    "    'csm_month_step','mrr^2','employees'\n",
    "]]\n",
    "target = df_ols[['mrr_retention']]"
   ]
  },
  {
   "cell_type": "code",
   "execution_count": null,
   "metadata": {},
   "outputs": [],
   "source": [
    "X = features ## X usually means our input variables (or independent variables)\n",
    "y = target ## Y usually means our output/dependent variable\n",
    "X = sm.tools.add_constant(X.astype(float))\n",
    "model = OLS(y, X.astype(float), missing='drop').fit() ## sm.OLS(output, input)\n",
    "\n",
    "# Print out the statistics\n",
    "print(model.summary())"
   ]
  },
  {
   "cell_type": "markdown",
   "metadata": {},
   "source": [
    "# GLM"
   ]
  },
  {
   "cell_type": "code",
   "execution_count": null,
   "metadata": {},
   "outputs": [],
   "source": [
    "import statsmodels.api\n",
    "gamma_model = statsmodels.formula.api.glm(\"mrr_retention~csm_month_step+mrr1+employees\",data=df_ols, family=statsmodels.genmod.families.Gamma())\n",
    "res = gamma_model.fit()"
   ]
  },
  {
   "cell_type": "code",
   "execution_count": null,
   "metadata": {},
   "outputs": [],
   "source": [
    "print(res.summary())"
   ]
  },
  {
   "cell_type": "code",
   "execution_count": null,
   "metadata": {},
   "outputs": [],
   "source": [
    "print(res.null_deviance,res.deviance)"
   ]
  },
  {
   "cell_type": "code",
   "execution_count": null,
   "metadata": {},
   "outputs": [],
   "source": [
    "(res.null_deviance-res.deviance)/res.null_deviance"
   ]
  },
  {
   "cell_type": "code",
   "execution_count": null,
   "metadata": {},
   "outputs": [],
   "source": [
    "import statsmodels.api as sm\n",
    "from scipy import stats\n",
    "glm_gamma = statsmodels.formula.api.glm(\"mrr_retention~csm_month_step+mrr1+employees\",data=df_ols, family=statsmodels.genmod.families.Gaussian(sm.families.links.log))\n",
    "res = glm_gamma.fit()\n",
    "print(res.summary())"
   ]
  },
  {
   "cell_type": "code",
   "execution_count": null,
   "metadata": {},
   "outputs": [],
   "source": [
    "(res.null_deviance-res.deviance)/res.null_deviance"
   ]
  },
  {
   "cell_type": "code",
   "execution_count": null,
   "metadata": {},
   "outputs": [],
   "source": [
    "import statsmodels\n",
    "gamma_model = statsmodels.formula.api.glm(\"mrr_retention~csm_month_step+mrr1+employees*csm_month_step\",data=df_ols, family=statsmodels.genmod.families.Gamma())\n",
    "res = gamma_model.fit()\n",
    "print(res.summary())"
   ]
  },
  {
   "cell_type": "code",
   "execution_count": null,
   "metadata": {},
   "outputs": [],
   "source": [
    "(res.null_deviance-res.deviance)/res.null_deviance"
   ]
  },
  {
   "cell_type": "code",
   "execution_count": null,
   "metadata": {},
   "outputs": [],
   "source": [
    "import statsmodels\n",
    "gamma_model = statsmodels.formula.api.glm(\"mrr_retention~csm_month_step+mrr1+employees+employees*mrr1\",data=df_ols, family=statsmodels.genmod.families.Gamma())\n",
    "res = gamma_model.fit()\n",
    "print(res.summary())"
   ]
  },
  {
   "cell_type": "code",
   "execution_count": null,
   "metadata": {},
   "outputs": [],
   "source": [
    "(res.null_deviance-res.deviance)/res.null_deviance"
   ]
  },
  {
   "cell_type": "code",
   "execution_count": null,
   "metadata": {},
   "outputs": [],
   "source": [
    "import statsmodels\n",
    "gamma_model = statsmodels.formula.api.glm(\"mrr_retention~csm_month_step+mrr1+employees+csm_month_step*mrr1\",data=df_ols, family=statsmodels.genmod.families.Gamma())\n",
    "res = gamma_model.fit()\n",
    "print(res.summary())"
   ]
  },
  {
   "cell_type": "code",
   "execution_count": null,
   "metadata": {},
   "outputs": [],
   "source": [
    "(res.null_deviance-res.deviance)/res.null_deviance"
   ]
  },
  {
   "cell_type": "code",
   "execution_count": null,
   "metadata": {},
   "outputs": [],
   "source": [
    "import statsmodels\n",
    "gamma_model = statsmodels.formula.api.glm(\"mrr_retention~csm_month_step+log_mrr+employees\",data=df_ols, family=statsmodels.genmod.families.Gamma())\n",
    "res = gamma_model.fit()\n",
    "print(res.summary())"
   ]
  },
  {
   "cell_type": "code",
   "execution_count": null,
   "metadata": {},
   "outputs": [],
   "source": [
    "(res.null_deviance-res.deviance)/res.null_deviance"
   ]
  },
  {
   "cell_type": "code",
   "execution_count": null,
   "metadata": {},
   "outputs": [],
   "source": [
    "import statsmodels\n",
    "gamma_model = statsmodels.formula.api.glm(\"mrr_retention~csm_month_step+log_mrr+employees+C(tier)\",data=df_ols, family=statsmodels.genmod.families.Gamma())\n",
    "res = gamma_model.fit()\n",
    "print(res.summary())"
   ]
  },
  {
   "cell_type": "code",
   "execution_count": null,
   "metadata": {},
   "outputs": [],
   "source": [
    "(res.null_deviance-res.deviance)/res.null_deviance"
   ]
  },
  {
   "cell_type": "markdown",
   "metadata": {},
   "source": [
    "Histogram of standardized deviance residuals:"
   ]
  },
  {
   "cell_type": "code",
   "execution_count": null,
   "metadata": {},
   "outputs": [],
   "source": [
    "from scipy import stats\n",
    "\n",
    "fig, ax = plt.subplots()\n",
    "\n",
    "resid = res.resid_deviance.copy()\n",
    "resid_std = stats.zscore(resid)\n",
    "ax.hist(resid_std, bins=25)\n",
    "ax.set_title('Histogram of standardized deviance residuals');"
   ]
  },
  {
   "cell_type": "markdown",
   "metadata": {},
   "source": [
    "QQ Plot of Deviance Residuals:"
   ]
  },
  {
   "cell_type": "code",
   "execution_count": null,
   "metadata": {},
   "outputs": [],
   "source": [
    "import statsmodels.api\n",
    "from statsmodels import graphics\n",
    "statsmodels.graphics.gofplots.qqplot(resid, line='r')"
   ]
  },
  {
   "cell_type": "code",
   "execution_count": null,
   "metadata": {},
   "outputs": [],
   "source": [
    "nobs = res.nobs\n",
    "yhat = res.mu"
   ]
  },
  {
   "cell_type": "code",
   "execution_count": null,
   "metadata": {},
   "outputs": [],
   "source": [
    "fig, ax = plt.subplots()\n",
    "\n",
    "ax.scatter(yhat, res.resid_pearson)\n",
    "ax.hlines(0, 0, 1)\n",
    "ax.set_xlim(0, 1)\n",
    "ax.set_title('Residual Dependence Plot')\n",
    "ax.set_ylabel('Pearson Residuals')\n",
    "ax.set_xlabel('Fitted values')"
   ]
  },
  {
   "cell_type": "code",
   "execution_count": null,
   "metadata": {},
   "outputs": [],
   "source": [
    "def ols(df, features, target, plot=True):\n",
    "    model = OLS(df[target], sm.tools.add_constant(df[features]), missing='drop').fit()\n",
    "    df['resid'] = model.resid\n",
    "    print(model.summary())\n",
    "    df['pred'] = model.predict(sm.tools.add_constant(df[features]))\n",
    "    \n",
    "    if plot:\n",
    "        fix, ax = plt.subplots(1, 2, figsize=(16, 3))\n",
    "        sns.distplot(df['resid'], ax=ax[0])\n",
    "        plt.scatter(df['pred'], df['resid'])"
   ]
  },
  {
   "cell_type": "code",
   "execution_count": null,
   "metadata": {},
   "outputs": [],
   "source": [
    "def ols(df, features, target, plot=True):\n",
    "    model = OLS(df[target], sm.tools.add_constant(df[features])).fit()\n",
    "    df['resid'] = model.resid\n",
    "    print(model.summary())\n",
    "    df['pred'] = model.predict(sm.tools.add_constant(df[features]))\n",
    "    \n",
    "    if plot:\n",
    "        fix, ax = plt.subplots(1, 4, figsize=(16, 3))\n",
    "        sns.distplot(df['resid'], ax=ax[0])\n",
    "\n",
    "        for f in features:\n",
    "            fig, ax = plt.subplots(1, 4, figsize=(16, 3))\n",
    "            sns.distplot(df[f], ax=ax[0], kde=False)\n",
    "            sns.regplot(f, 'resid', df, ax=ax[2])\n",
    "            sns.regplot(f, target, df, ax=ax[3])"
   ]
  },
  {
   "cell_type": "code",
   "execution_count": null,
   "metadata": {},
   "outputs": [],
   "source": [
    "features = [\n",
    "    'csm_month_step','mrr1','employees'\n",
    "]\n",
    "target = ['mrr_retention']"
   ]
  },
  {
   "cell_type": "code",
   "execution_count": null,
   "metadata": {},
   "outputs": [],
   "source": [
    "df_ols_no_na=df_ols.dropna()"
   ]
  },
  {
   "cell_type": "code",
   "execution_count": null,
   "metadata": {},
   "outputs": [],
   "source": [
    "ols(df_ols_no_na,features,target, plot=True)"
   ]
  },
  {
   "cell_type": "code",
   "execution_count": null,
   "metadata": {},
   "outputs": [],
   "source": [
    "features = [\n",
    "    'csm_month_step','log_mrr','employees'\n",
    "]\n",
    "target = ['mrr_retention']\n",
    "ols(df_ols.dropna(),features,target, plot=True)"
   ]
  },
  {
   "cell_type": "code",
   "execution_count": null,
   "metadata": {
    "scrolled": false
   },
   "outputs": [],
   "source": [
    "from termcolor import colored\n",
    "for p in ['Tier 1', 'Tier 2', 'Tier 3',\n",
    "       'Tier 4', 'Tier 5']:\n",
    "    print(colored('='*20 + p + '='*20, 'red'))\n",
    "    features = [\n",
    "    'csm_month_step','mrr1','employees']\n",
    "    target = ['mrr_retention']\n",
    "    ols(df_ols.loc[df_ols['tier'] == p], features, target, plot=False)"
   ]
  },
  {
   "cell_type": "code",
   "execution_count": null,
   "metadata": {},
   "outputs": [],
   "source": [
    "df_ols.dtypes"
   ]
  },
  {
   "cell_type": "code",
   "execution_count": null,
   "metadata": {
    "scrolled": false
   },
   "outputs": [],
   "source": [
    "from termcolor import colored\n",
    "for p in ['Tier 1', 'Tier 2', 'Tier 3',\n",
    "       'Tier 4', 'Tier 5']:\n",
    "    print(colored('='*20 + p + '='*20, 'red'))\n",
    "    features = [\n",
    "    'csm','mrr1']\n",
    "    target = ['mrr_retention']\n",
    "    ols(df_ols.loc[df_ols['tier'] == p], features, target, plot=False)"
   ]
  }
 ],
 "metadata": {
  "kernelspec": {
   "display_name": "Python 3",
   "language": "python",
   "name": "python3"
  },
  "language_info": {
   "codemirror_mode": {
    "name": "ipython",
    "version": 3
   },
   "file_extension": ".py",
   "mimetype": "text/x-python",
   "name": "python",
   "nbconvert_exporter": "python",
   "pygments_lexer": "ipython3",
   "version": "3.6.1"
  }
 },
 "nbformat": 4,
 "nbformat_minor": 2
}
